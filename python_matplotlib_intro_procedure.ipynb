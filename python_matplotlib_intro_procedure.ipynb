{
  "cells": [
    {
      "cell_type": "markdown",
      "metadata": {
        "id": "view-in-github",
        "colab_type": "text"
      },
      "source": [
        "<a href=\"https://colab.research.google.com/github/kwaldenphd/matplotlib-intro/blob/main/python_matplotlib_intro_procedure.ipynb\" target=\"_parent\"><img src=\"https://colab.research.google.com/assets/colab-badge.svg\" alt=\"Open In Colab\"/></a>"
      ]
    },
    {
      "cell_type": "markdown",
      "source": [
        "# Introduction to `matplotlib`\n",
        "\n",
        "<a href=\"http://creativecommons.org/licenses/by-nc/4.0/\" rel=\"license\"><img style=\"border-width: 0;\" src=\"https://i.creativecommons.org/l/by-nc/4.0/88x31.png\" alt=\"Creative Commons License\" /></a>\n",
        "This tutorial is licensed under a <a href=\"http://creativecommons.org/licenses/by-nc/4.0/\" rel=\"license\">Creative Commons Attribution-NonCommercial 4.0 International License</a>.\n"
      ],
      "metadata": {
        "id": "CX2W8wCXnbBJ"
      }
    },
    {
      "cell_type": "markdown",
      "source": [
        "## Lab Goals\n",
        "\n",
        "This lab covers the fundamentals of creating plots in Python using `matplotlib`. It covers the basic anatomy of a `matplotlib` figure and the customization and styling options available. It provides an overview of common plot types, as well as image export options. It provides a comparison and overview of `matplotlib`'s two interfaces: object-oriented and `pyplot`. \n",
        "\n",
        "By the end of this lab, students will be able to:\n",
        "- Understand the core components of a `matplotlib` figure\n",
        "- Be able to write code that generates a `matplotlib` figure\n",
        "- Understand the customization and styling options available in `matplotlib`\n",
        "- Be able to customize a `matplotlib` figure using available styling options\n",
        "- Understand the range of plot types available in `matplotlib`\n",
        "- Be comfortable navigating `matplotlib` documentation\n",
        "- Be able to save a `matplotlib` figure as a static image file\n"
      ],
      "metadata": {
        "id": "hjNi7w7YncfN"
      }
    },
    {
      "cell_type": "markdown",
      "source": [
        "## Acknowledgements\n",
        "\n",
        "The author consulted the following materials when building this tutorial:\n",
        "- `matplotlib`, [\"Usage Guide\"](https://matplotlib.org/tutorials/introductory/usage.html#sphx-glr-tutorials-introductory-usage-py)\n",
        "- `matplotlib`, [\"Tutorials\"](https://matplotlib.org/tutorials/index.html)\n",
        "- `pandas` documentation, [\"Getting Started: Plotting\"](https://pandas.pydata.org/docs/getting_started/intro_tutorials/04_plotting.html)\n",
        "- Chapter 9 \"Plotting and Visualization\" from Wes McKinney, [*Python for Data Analysis: Data Wrangling With pandas, Numpy, and IPython*](https://www.oreilly.com/library/view/python-for-data/9781491957653/) (O'Reilly, 2017)\n",
        "- Ventsislav Yordanov, [\"Data Science with Python: Intro to Data Visualization with Matplotlib\"](https://towardsdatascience.com/data-science-with-python-intro-to-data-visualization-and-matplotlib-5f799b7c6d82) *Towards Data Science* (21 July 2018)\n",
        "- Chapter 15 \"Generating Data\" from Eric Matthes, [*Python Crash Course: A Hands-On, Project-Based Introduction to Programming*](https://ehmatthes.github.io/pcc_2e/) (No Starch Press, 2019).\n",
        "- Chapter 4 \"Visualization with Matplotlib\" from Jake VanderPlas, [*Python Data Science Handbook: Essential Tools for Working with Data*](https://jakevdp.github.io/PythonDataScienceHandbook/) (O'Reilly, 2016)\n",
        "\n",
        "All figures in this lab come from the `matplotlib` documentation and tutorials."
      ],
      "metadata": {
        "id": "gxsyVT_ZneCk"
      }
    },
    {
      "cell_type": "markdown",
      "source": [
        "# Lab Notebook Template\n",
        "\n",
        "[Link to access lab notebook template (Jupyter Notebook)](https://drive.google.com/file/d/1mKVWgMdmdQ6H7ZF4lpAOVM16tTQRX_gO/view?usp=sharing)"
      ],
      "metadata": {
        "id": "qqKvFViXnf7x"
      }
    },
    {
      "cell_type": "markdown",
      "source": [
        "# Getting started with `matplotlib`\n",
        "\n",
        "1. For our purposes, a plot is defined as \"a graphic representation (such as a chart)\" (Merriam Webster).\n",
        "\n",
        "2. These graphic representations of data are often called charts, graphs, figures, etc. \n",
        "\n",
        "3. In the context of programming, computer science, and data science, we refer to these as plots.\n",
        "\n",
        "4. We can generate plots for data stored in `pandas` using the `matplotlib` package.\n",
        "\n",
        "5. `matplotlib` was developed in 2002 as a MATLAB-like plotting interface for Python.\n",
        "\n",
        "6. \"Matplotlib is a comprehensive library for creating static, animated, and interactive visualizations in Python...Matplotlib produces publication-quality figures in a variety of hardcopy formats and interactive environments across platforms. Matplotlib can be used in Python scripts, the Python and IPython shell, web application servers, and various graphical user interface toolkits\" ([Matplotlib documentation, Github](https://github.com/matplotlib/matplotlib))\n",
        "\n",
        "7. As described [by the original developer John Hunter](https://matplotlib.org/users/history.html), \"Matplotlib is a library for making 2D plots of arrays in Python. Although it has its origins in emulating the MATLAB graphics commands, it is independent of MATLAB, and can be used in a Pythonic, object oriented way. Although Matplotlib is written primarily in pure Python, it makes heavy use of NumPy and other extension code to provide good performance even for large arrays. Matplotlib is designed with the philosophy that you should be able to create simple plots with just a few commands, or just one! If you want to see a histogram of your data, you shouldn't need to instantiate objects, call methods, set properties, and so on; it should just work.\"\n",
        "\n",
        "8. For more on `matplotlib`'s development and history: John Hunter, [\"History\"](https://matplotlib.org/users/history.html) *Matplotlib* (2008)\n",
        "\n",
        "9. To be able to call the `matplotlib` API (application programming interface) within Python, we need to make sure the package is installed and loaded.\n",
        "- To install at the command line: `pip install matplotlib`\n",
        "- To load in a `.py` script: `import matplotlib.pyplot as plot`\n",
        "- To work with `matplotlib` from a Jupyter notebook: `%matplotlib notebook`\n",
        "\n",
        "10. The default `matplotlib` plot is a line plot."
      ],
      "metadata": {
        "id": "gvkHgoR9niN-"
      }
    },
    {
      "cell_type": "code",
      "source": [
        "# import matplotlib\n",
        "import matplotlib.pyplot as plt\n",
        "\n",
        "# import numpy\n",
        "import numpy as np\n",
        "\n",
        "# create dataset of numbers 0, 1, 2, 3, 4, 5, 6, 7, 8, 9\n",
        "data = np.arange(10)\n",
        "\n",
        "# create line plot of data \n",
        "plt.plot(data)"
      ],
      "metadata": {
        "id": "ZdYXKeEenjij"
      },
      "execution_count": null,
      "outputs": []
    },
    {
      "cell_type": "markdown",
      "source": [
        "11. We pass our data to `plt.plot()` and a line plot is generated.\n",
        "\n",
        "12. Plots in `matplotlib` reside within a `Figure` object.\n",
        "\n",
        "13. These figures contain one or more `Axes`, which are the area where points can be added or specified usign x-y coordinates for 2-D plots.\n",
        "\n",
        "14. Once the `Figure` object has been created, we can add start adding elements to the plot.\n",
        "\n",
        "15. The easiest way to create a figure is using `pyplot.subplots()`.\n",
        "\n",
        "16. NOTE: Because we have loaded the package using `import matplotlib.pyplot as plot`, we can use `plt` as shorthand for `pyplot`.\n",
        "\n",
        "17. We can then use `axes.plot()` to create axes and add data.\n",
        "\n",
        "18. Another line plot using a list of number values:"
      ],
      "metadata": {
        "id": "m4aiQ5-Gnl-z"
      }
    },
    {
      "cell_type": "code",
      "source": [
        "# import package\n",
        "import matplotlib.pyplot as plt\n",
        "\n",
        "# create figure with axes\n",
        "fig, ax = plt.subplots()\n",
        "\n",
        "# plot data on axes\n",
        "ax.plot([1, 2, 3, 4], [1, 4, 2, 3])"
      ],
      "metadata": {
        "id": "ffDXKoHynnVu"
      },
      "execution_count": null,
      "outputs": []
    },
    {
      "cell_type": "markdown",
      "source": [
        "19. We can see the first list of `1, 2, 3, 4` is shown on the `X` axis.\n",
        "\n",
        "20. The second list `1, 4, 2, 3` is shown on the `Y` axis.\n",
        "\n",
        "21. NOTE: The `Y` axis values are plotted in the original order--for this type of plot (a line plot), `matplotlib` keeps the list data in its original order.\n",
        "\n",
        "22. Let's generate a line plot using a square number sequence"
      ],
      "metadata": {
        "id": "Zi6wWrVNnoag"
      }
    },
    {
      "cell_type": "code",
      "source": [
        "# import matplotlib\n",
        "import matplotlib.pyplot as plt\n",
        "\n",
        "# create dataset for y axis\n",
        "squares = [1, 4, 9, 16, 25]\n",
        "\n",
        "# create dataset for x axis\n",
        "input_values = [1, 2, 3, 4, 5]\n",
        "\n",
        "# create figure for new plot\n",
        "fig, ax = plt.subplots()\n",
        "\n",
        "# generate plot\n",
        "ax.plot(input_values, squares)\n",
        "\n",
        "# show plot\n",
        "plt.show()"
      ],
      "metadata": {
        "id": "os2TnovSnp8u"
      },
      "execution_count": null,
      "outputs": []
    },
    {
      "cell_type": "markdown",
      "source": [
        "23. In this example, we import `matplotlib` and create two lists, `squares` and `input_values` that hold the data that will be plotted.\n",
        "\n",
        "24. NOTE: We need to specify `input_values`, because the default in `matplotlib` will start the axis at `0`.\n",
        "\n",
        "25. We then create a new variable `fig` that represents the entire figure or collection of plots.\n",
        "\n",
        "26. The variable `ax` represents a single plot in the `fig` figure.\n",
        "\n",
        "27. We then pass `squares` to the `plot()` method to create the plot.\n",
        "\n",
        "28. And `plt.show()` opens the `matplotlib` viewer to show us the newly-generated plot.\n",
        "\n",
        "29. From within the `matplotlib` viewer, we can zoom in and navigate the plot, as well as save images of the plot.\n",
        "\n",
        "# Anatomy of a `matplotlib` figure\n",
        "\n",
        "30. Before we start customizing plots or generating more complex plots, it's useful to know the components of a `matplotlib` figure.\n",
        "\n",
        "<p align=\"center\"><a href=\"https://github.com/kwaldenphd/matplotlib-intro/blob/main/figures/Figure_1.png?raw=true\"><img class=\"aligncenter\" src=\"https://github.com/kwaldenphd/matplotlib-intro/blob/main/figures/Figure_1.png?raw=true\" /></a></p>"
      ],
      "metadata": {
        "id": "CF1z41PvnruA"
      }
    },
    {
      "cell_type": "markdown",
      "source": [
        "## `Figure`\n",
        "\n",
        "31. `Figure`: A figure object that can include multiple `Axes` or plots; a `Figure` contains at least one `Axes`\n"
      ],
      "metadata": {
        "id": "y6-l7dSvns-H"
      }
    },
    {
      "cell_type": "code",
      "source": [
        "# create an empty figure with no axes\n",
        "fig = plt.figure()\n",
        "\n",
        "# create a figure with a single axes\n",
        "fig, ax = plt.subplots()\n",
        "\n",
        "# create a figure with a 2x2 grid of axes\n",
        "fig, axs = plt.subplots(2, 2)"
      ],
      "metadata": {
        "id": "lTNgRzY3nuCJ"
      },
      "execution_count": null,
      "outputs": []
    },
    {
      "cell_type": "markdown",
      "source": [
        "32. Having multiple `Axes` in the same `Figure` is useful when creating side-by-side visualizations or a dashboard-style collection of visualizations.\n",
        "\n",
        "## `Axes`\n",
        "\n",
        "33. In `matplotlib` syntax, `Axes` are what we would think of as a single plot, where data is plotted.\n",
        "\n",
        "34. A `Figure` can contain many `Axes`, but a given `Axes` object can only be in one `Figure`.\n",
        "\n",
        "35. For cartesian coordinate plane visualizations, an `Axes` contains two `Axis` objects."
      ],
      "metadata": {
        "id": "uGRDSgYJnvGb"
      }
    },
    {
      "cell_type": "markdown",
      "source": [
        "## `Axis`\n",
        "\n",
        "36. `matplotlib` works in a Cartesian coordinate system, with an `X` (horizontal) and `Y` (vertical) axis.\n",
        "\n",
        "37. In a `matplotlib` plot, the `Axis` objects set graph limits and generate tick marks and labels.\n",
        "\n",
        "38. The location of ticks is determined by a `Locator` object.\n",
        "\n",
        "39. Tick labels are strings formatted using `Formatter`."
      ],
      "metadata": {
        "id": "LpE5Hy08nwJs"
      }
    },
    {
      "cell_type": "markdown",
      "source": [
        "## Everything Else (`Artists`)\n",
        "\n",
        "40. The other components of the `Figure` include things like axis labels, marker or line style, tick labels, figure title, etc.\n",
        "\n",
        "41. These are all referred to as `Artists` in `matplotlib` documentation.\n",
        "\n",
        "42. Knowing how to configure or customize these plot components is not just about aesthetics--in many cases, customizing a plot is necessary for readability.\n",
        "\n",
        "<blockquote>Q1: Describe in your own words the core components of a matplotlib figure. What is the general sequence of steps involved in generating a matplotlib figure?</blockquote>"
      ],
      "metadata": {
        "id": "roH1P2tWnxy5"
      }
    },
    {
      "cell_type": "markdown",
      "source": [
        "# Customizing in `matplotlib`\n"
      ],
      "metadata": {
        "id": "wQ3-QhYsnywN"
      }
    },
    {
      "cell_type": "markdown",
      "source": [
        "## Title and Axis Labels\n",
        "\n",
        "43. We can start by adding a plot title, and axis labels to our square root line plot."
      ],
      "metadata": {
        "id": "0KUNJH05nztI"
      }
    },
    {
      "cell_type": "code",
      "source": [
        "# import matplotlib\n",
        "import matplotlib.pyplot as plt\n",
        "\n",
        "# create dataset for y axis\n",
        "squares = [1, 4, 9, 16, 25]\n",
        "\n",
        "# create dataset for x axis\n",
        "input_values = [1, 2, 3, 4, 5]\n",
        "\n",
        "# create figure for new plot\n",
        "fig, ax = plt.subplots()\n",
        "\n",
        "# generate plot\n",
        "ax.plot(input_values, squares)\n",
        "\n",
        "# add title\n",
        "ax.set_title(\"Square Numbers\")\n",
        "\n",
        "# add x axis label\n",
        "ax.set_xlabel(\"Value\")\n",
        "\n",
        "# add y axis label\n",
        "ax.set_ylabel(\"Square of Value\") \n",
        "\n",
        "# show plot\n",
        "plt.show()"
      ],
      "metadata": {
        "id": "Kt7_z3m4n1un",
        "colab": {
          "base_uri": "https://localhost:8080/",
          "height": 295
        },
        "outputId": "df676042-3b07-4e32-a468-dd417600fd83"
      },
      "execution_count": 1,
      "outputs": [
        {
          "output_type": "display_data",
          "data": {
            "image/png": "[encoded data removed]",
            "text/plain": [
              "<Figure size 432x288 with 1 Axes>"
            ]
          },
          "metadata": {
            "needs_background": "light"
          }
        }
      ]
    },
    {
      "cell_type": "markdown",
      "source": [
        "44. We now see a title and axis labels.\n",
        "\n",
        "45. As we'll see later, this basic title and axis label syntax applies across different types of `matplotlib` plots.\n",
        "\n",
        "## Font Size and Line Thickness\n",
        "\n",
        "46. We can also customize the font size for title and labels, as well as the line thickness.\n"
      ],
      "metadata": {
        "id": "kPKYhAwEn27s"
      }
    },
    {
      "cell_type": "code",
      "source": [
        "# import matplotlib\n",
        "import matplotlib.pyplot as plt\n",
        "\n",
        "# create dataset for y axis\n",
        "squares = [1, 4, 9, 16, 25]\n",
        "\n",
        "# create dataset for x axis\n",
        "input_values = [1, 2, 3, 4, 5]\n",
        "\n",
        "# create figure for new plot\n",
        "fig, ax = plt.subplots()\n",
        "\n",
        "# generate plot\n",
        "ax.plot(input_values, squares, linewidth-3)\n",
        "\n",
        "# add title\n",
        "ax.set_title(\"Square Numbers\", fontsize=24)\n",
        "\n",
        "# add x axis label\n",
        "ax.set_xlabel(\"Value\", fontsize=14)\n",
        "\n",
        "# add y axis label\n",
        "ax.set_ylabel(\"Square of Value\", fontsize=14) \n",
        "\n",
        "# set tick label size\n",
        "ax.tick_params(axis='both', labelsize=14)\n",
        "\n",
        "# show plot\n",
        "plt.show()"
      ],
      "metadata": {
        "id": "338zoZ8mn4ah"
      },
      "execution_count": null,
      "outputs": []
    },
    {
      "cell_type": "markdown",
      "source": [
        "47. The updated plot includes these size and thickness modifications.\n",
        "\n",
        "## Ticks and Ticklabels\n",
        "\n",
        "48. By default, `matplotlib` will use the tick locations as labels.\n",
        "\n",
        "49. We can use `.set_xticks()` and `.set_xticklabels()` to set tick values and labels for the `X` axis.\n",
        "\n",
        "50. `.set_yticks()` and `.set_yticklabels()` do the same for the `Y` axis.\n",
        "\n",
        "51. Tick values work within the data range for each axis.\n",
        "\n",
        "52. Let's say we wanted number words as tick labels for our square root plot."
      ],
      "metadata": {
        "id": "F2NPEzRin5zl"
      }
    },
    {
      "cell_type": "code",
      "source": [
        "# import matplotlib\n",
        "import matplotlib.pyplot as plot\n",
        "\n",
        "# create dataset for y axis\n",
        "squares = [1, 4, 9, 16, 25]\n",
        "\n",
        "# create dataset for x axis\n",
        "input_values = [1, 2, 3, 4, 5]\n",
        "\n",
        "# create figure for new plot\n",
        "fig, ax = plt.subplots()\n",
        "\n",
        "# generate plot\n",
        "ax.plot(input_values, squares)\n",
        "\n",
        "# add title\n",
        "ax.set_title(\"Square Numbers\")\n",
        "\n",
        "# add x axis label\n",
        "ax.set_xlabel(\"Value\")\n",
        "\n",
        "# add y axis label\n",
        "ax.set_ylabel(\"Square of Value\") \n",
        "\n",
        "# set x axis tick locations\n",
        "ax.set_xticks([0, 1, 2, 3, 4, 5])\n",
        "\n",
        "# set x axis  tick labels\n",
        "ax.set_xticklabels(['zero', 'one', 'two', 'three', 'four', 'five'])\n",
        "\n",
        "# set y axis tick locations\n",
        "ax.set_yticks([0, 5, 10, 15, 20, 25, 30])\n",
        "\n",
        "# set y axis tick labels\n",
        "ax.set_yticklabels(['zero', 'five', 'ten', 'fifteen', 'twenty', 'twenty five', 'thirty'])\n",
        "\n",
        "# show plot\n",
        "plt.show()"
      ],
      "metadata": {
        "id": "6eoK3FO3n8K3"
      },
      "execution_count": null,
      "outputs": []
    },
    {
      "cell_type": "markdown",
      "source": [
        "53. We could also adjust the font size and rotation for those tick labels by modifying the `.set_ticklabels()` lines.\n"
      ],
      "metadata": {
        "id": "axA0nGkjn9Xn"
      }
    },
    {
      "cell_type": "code",
      "source": [
        "# set x axis  tick labels\n",
        "ax.set_xticklabels(['zero', 'one', 'two', 'three', 'four', 'five'], rotation=30, fontsize='small')\n",
        "\n",
        "# set y axis tick labels\n",
        "ax.set_yticklabels(['zero', 'five', 'ten', 'fifteen', 'twenty', 'twenty five', 'thirty'], fontsize='small')"
      ],
      "metadata": {
        "id": "2Q3N88FKn-WW"
      },
      "execution_count": null,
      "outputs": []
    },
    {
      "cell_type": "markdown",
      "source": [
        "54. These modifications set the ticklabel font size as `small` and for the `X` axis tick labels rotate the text by 30 degrees.\n",
        "\n",
        "55. We could also adjust the tick label style without adjusting the actual tick labels using `.tick_params()`. For example, to change the font size for major tick marks on both axis:"
      ],
      "metadata": {
        "id": "BjUXABu3n_Yf"
      }
    },
    {
      "cell_type": "code",
      "source": [
        "# add title\n",
        "ax.set_title(\"Square Numbers\")\n",
        "\n",
        "# add x axis label\n",
        "ax.set_xlabel(\"Value\")\n",
        "\n",
        "# add y axis label\n",
        "ax.set_ylabel(\"Square of Value\") \n",
        "\n",
        "# set tick label size\n",
        "ax.tick_params(axis='both', which='major', labelsize=14)"
      ],
      "metadata": {
        "id": "LrLoyTbCoAmp"
      },
      "execution_count": null,
      "outputs": []
    },
    {
      "cell_type": "markdown",
      "source": [
        "56. In this example, the default tick values and labels will be used. \n",
        "\n",
        "57. `.tick_params()` modifies the label size for major tick marks on both the `X` and `Y` axis.\n",
        "\n",
        "## Colors, Markers, and Line Styles\n",
        "\n",
        "58. The `.plot()` function can take additional arguments that specify line style and color.\n",
        "\n",
        "59. For plots that have points or markers, these same characters are used to specify point type and color.\n"
      ],
      "metadata": {
        "id": "8F0_s5jnoB0U"
      }
    },
    {
      "cell_type": "markdown",
      "source": [
        "### Line Style\n",
        "\n",
        "60. The following table includes characters and descriptions for line style keyword arguments.\n",
        "\n",
        "Character | String Representation | Description\n",
        "--- | --- | ---\n",
        "`-` | `solid` | Dash; solid line style\n",
        "`--` | `dashed` | Double dash; dashed line style\n",
        "`-.` | `dashdot` | Dash dot; dash-dot line style\n",
        "`:` | `dotted` | Colon; dotted line style\n",
        "\n",
        "61. For more on customizing line styles:\n",
        "- [Linestyles](https://matplotlib.org/3.1.1/gallery/lines_bars_and_markers/linestyles.html)"
      ],
      "metadata": {
        "id": "PM3KlMkaoDDG"
      }
    },
    {
      "cell_type": "markdown",
      "source": [
        "### Marker Style\n",
        "\n",
        "62. The following table includes characters and descriptions for marker style keyword arguments.\n",
        "\n",
        "Character | Description\n",
        "--- | ---\n",
        "`.` | Period; point marker\n",
        "`,` | Comma; pixel marker\n",
        "`o` | Lower-case letter o; circle marker\n",
        "`v` | Lower-case letter v; triangle_down marker\n",
        "`^` | Vertical caret symbol; triangle_up marker\n",
        "`<` | Less-than sign; triangle_left marker\n",
        "`>` | Greater-than sign; triangle_right marker\n",
        "`1` | Number 1; tri_down marker\n",
        "`2` | Number 2; tri_up marker\n",
        "`3` | Number 3; tri_left marker\n",
        "`4` | Number 4; tri_right marker\n",
        "`s` | Lower-case letter s; square marker\n",
        "`p` | Lower-case letter p; pentagon marker\n",
        "`*` | Asterisk; star marker\n",
        "`h` | Lower-case letter h; hexagon1 marker\n",
        "`H` | Upper-case letter h, hexagon2 marker\n",
        "`+` | Plus sign; plus marker\n",
        "`x` | Lower-case letter x; x marker\n",
        "`D` | Upper-case letter d; diamond marker\n",
        "`d` | Lower-case letter d; thin_diamond marker\n",
        "`|` | Vertical line or pipe symbol; vline marker\n",
        "`_` | Underscore symbol; hline marker\n"
      ],
      "metadata": {
        "id": "IhLhb1jDoEmi"
      }
    },
    {
      "cell_type": "markdown",
      "source": [
        "### Colors\n",
        "\n",
        "63. The following table includes characters and descriptions for color keyword arguments.\n",
        "\n",
        "Character | Color\n",
        "--- | ---\n",
        "`b` | blue\n",
        "`g` | green\n",
        "`r` | red\n",
        "`c` | cyan\n",
        "`m` | magenta\n",
        "`y` | yellow\n",
        "`k` | black\n",
        "`w` | white\n",
        "\n",
        "64. You can also specify colors using full color names (`green`), hex strings (`#008000`), or RGB combinations (`0, 128, 0`).\n",
        "\n",
        "65. `matplot` lib supports the following named color pallets:\n",
        "- Base colors (character keyword arguments)\n",
        "- Tableau (named color from default Tableau 10 pallette; uses `tab:blue` syntax)\n",
        "- CSS (named colors from CSS; uses `black`, `dimgray`, `antiquewhite` syntax)\n",
        "\n",
        "66. For more on colors in `matplotlib`:\n",
        "- [List of named colors](https://matplotlib.org/3.1.1/gallery/color/named_colors.html)\n",
        "- [Specifying Colors](https://matplotlib.org/3.1.1/tutorials/colors/colors.html#sphx-glr-tutorials-colors-colors-py)\n",
        "- [`matplotlib.colors`](https://matplotlib.org/3.1.1/api/colors_api.html#module-matplotlib.colors)\n",
        "- [Color Demo](https://matplotlib.org/3.1.1/gallery/color/color_demo.html)"
      ],
      "metadata": {
        "id": "hLtSN9L3oGCi"
      }
    },
    {
      "cell_type": "markdown",
      "source": [
        "## Making Style Choices\n",
        "\n",
        "67. When building a plot that will have multiple lines or types of markers, line/marker style (along with color) can help distinguish each component.\n",
        "\n",
        "68. In a situation where the plot will be presented or printed in black-and-white only, or viewed by an audience that may include individuals with visual impairments, intentional use of line/marker style is essential for accessibility.\n",
        "\n",
        "69. When building a plot that will have multiple lines or types of markers, color (along with line/marker style) can help distinguish each component.\n",
        "\n",
        "70. But relying only on color to convey meaning in a plot runs the risks of making the visual inaccessible or not meaningful to those with visual impairments.\n",
        "\n",
        "71. Axis Maps's [Colorbrewer2.0](https://colorbrewer2.org/) is a useful tool for finding accessible color palletes."
      ],
      "metadata": {
        "id": "pqBXeS38oHS8"
      }
    },
    {
      "cell_type": "markdown",
      "source": [
        "### Colormaps\n",
        "\n",
        "72. As described by Kenneth Moreland, \"One of the most fundamental features of scientific visualiation is the process of mapping scalar values to colors\" (Moreland, \"Diverging Color Maps for Scientific Visualization,\" in *Proceedings of the 5th International Symposium on Visual Computing*, December 2009. http://dx.doi.org/10.1007/978-3-642-10520-3_9)\n",
        "\n",
        "73. The color scheme or pallette for a plot is most often referred to as a colormap.\n",
        "\n",
        "74. Colormaps generally fall into a few categories.\n",
        "\n",
        "75. `matplotlib` includes [a wide range of built-in colormaps](https://matplotlib.org/tutorials/colors/colormaps.html), some of which are shown in the images below."
      ],
      "metadata": {
        "id": "i24LTJRCoIbJ"
      }
    },
    {
      "cell_type": "markdown",
      "source": [
        "#### Sequential\n",
        "\n",
        "<p align=\"center\"><a href=\"https://github.com/kwaldenphd/matplotlib-intro/blob/main/figures/Figure_3.png?raw=true\"><img class=\"aligncenter\" src=\"https://github.com/kwaldenphd/matplotlib-intro/blob/main/figures/Figure_3.png?raw=true\" /></a></p>\n",
        "\n",
        "76. Sequential colormaps show change in lightness or color saturation incrementally. \n",
        "\n",
        "78. They are generally comprised of a single hue."
      ],
      "metadata": {
        "id": "-kYu0ZcFoJcy"
      }
    },
    {
      "cell_type": "markdown",
      "source": [
        "#### Diverging\n",
        "\n",
        "<p align=\"center\"><a href=\"https://github.com/kwaldenphd/matplotlib-intro/blob/main/figures/Figure_4.png?raw=true\"><img class=\"aligncenter\" src=\"https://github.com/kwaldenphd/matplotlib-intro/blob/main/figures/Figure_4.png?raw=true\" /></a></p>\n",
        "\n",
        "79. Diverging colormaps show change in lightness and possibly saturation for two different colors that meet in the middle at an unsaturated color. \n",
        "\n",
        "80. This type of colormap is most effective when data being plotted has a critical middle value, or deviates around zero."
      ],
      "metadata": {
        "id": "ffXYSfdJoKlm"
      }
    },
    {
      "cell_type": "markdown",
      "source": [
        "#### Cyclic\n",
        "\n",
        "<p align=\"center\"><a href=\"https://github.com/kwaldenphd/matplotlib-intro/blob/main/figures/Figure_5.png?raw=true\"><img class=\"aligncenter\" src=\"https://github.com/kwaldenphd/matplotlib-intro/blob/main/figures/Figure_5.png?raw=true\" /></a></p>\n",
        "\n",
        "81. Cyclic colormaps show change in lightness for two different colors that meet in the middle and begin or end at an unsaturated color.\n",
        "\n",
        "82. This type of colormap is most effective for data values that wrap around at the endpoints (i.e. phase angle, wind direction, time of day)."
      ],
      "metadata": {
        "id": "panU9NnmoLy3"
      }
    },
    {
      "cell_type": "markdown",
      "source": [
        "#### Qualitative\n",
        "\n",
        "<p align=\"center\"><a href=\"https://github.com/kwaldenphd/matplotlib-intro/blob/main/figures/Figure_6.png?raw=true\"><img class=\"aligncenter\" src=\"https://github.com/kwaldenphd/matplotlib-intro/blob/main/figures/Figure_6.png?raw=true\" /></a></p>\n",
        "\n",
        "83. Qualitative colormaps are miscellaneous colors.\n",
        "\n",
        "84. This type of colormap is most effective for information that does not have ordering or relationships.\n",
        "\n",
        "85. For more on colormaps in `matplotlib`:\n",
        "- [Colormaps](https://matplotlib.org/3.1.1/tutorials/colors/colormaps.html)\n",
        "- [Choosing Colormaps in Matplotlib](https://matplotlib.org/tutorials/colors/colormaps.html#sphx-glr-tutorials-colors-colormaps-py)\n",
        "- [Creating Colormaps in Matplotlib](https://matplotlib.org/3.1.1/tutorials/colors/colormap-manipulation.html)\n",
        "\n",
        "<blockquote>Q2: Describe the different types of colormaps in your own words. What are the parameters or factors to consider when choosing a colormap?</blockquote>"
      ],
      "metadata": {
        "id": "zmnFmlG6oNNr"
      }
    },
    {
      "cell_type": "markdown",
      "source": [
        "## Putting It All Together\n",
        "\n",
        "86. So how would we use these arguments when generating a plot?\n",
        "\n",
        "87. Line or marker styles and colors can be combined in a single string format.\n",
        "\n",
        "88. Combining these characters opens up a wide range of customization options.\n",
        "\n",
        "89. A few examples:\n",
        "- `bo`: blue circle marker\n",
        "- `k--`: black dashed line\n",
        "- `rp`: red pentagon marker\n",
        "- `cD`: cyan diamond marker\n",
        "\n",
        "90. You can also specify line style using named stings.\n",
        "\n",
        "91. These arguments are invoked as part of the `.plot()` function (or the equivalent function when generating other kinds of plots).\n",
        "\n",
        "92. A few examples for customizing line color and style:"
      ],
      "metadata": {
        "id": "zkncW-I5oOv4"
      }
    },
    {
      "cell_type": "code",
      "source": [
        "# set line color using named color\n",
        "ax.plot(x, y, color='blue')\n",
        "\n",
        "# set line color using color character\n",
        "ax.plot(x, y, color='b')\n",
        "\n",
        "# set line color using hex\n",
        "ax.plot(x, y, color=\"#0000FF\")\n",
        "\n",
        "# set line color using RGB\n",
        "ax.plot(x, y, color=(0, 0, 255))\n",
        "\n",
        "# set color using tab notation\n",
        "ax.plot(x, y, color='tab:blue')"
      ],
      "metadata": {
        "id": "RGuOhuLCoQOD"
      },
      "execution_count": null,
      "outputs": []
    },
    {
      "cell_type": "code",
      "source": [
        "# set line style using character\n",
        "ax.plot(x, y, linestyle='--')\n",
        "\n",
        "# set line style using style name\n",
        "ax.plot(x, y, linestyle='dashed')"
      ],
      "metadata": {
        "id": "-aJczOXYoRJ_"
      },
      "execution_count": null,
      "outputs": []
    },
    {
      "cell_type": "code",
      "source": [
        "# set line style and color using characters\n",
        "ax.plot(x, y, 'b--')\n",
        "\n",
        "# set line style and color separately\n",
        "ax.plot(x, y, color='blue', linestyle='--')"
      ],
      "metadata": {
        "id": "4e_n9ro2oSDF"
      },
      "execution_count": null,
      "outputs": []
    },
    {
      "cell_type": "code",
      "source": [
        "# set marker style and color using characters\n",
        "ax.plot(x, y, 'bo')\n",
        "\n",
        "# set marker style and color separately\n",
        "ax.plot(x, y, color='green', marker='o')"
      ],
      "metadata": {
        "id": "_9kvjBGeoS_t"
      },
      "execution_count": null,
      "outputs": []
    },
    {
      "cell_type": "code",
      "source": [
        "# python code that puts it all together\n",
        "\n",
        "# import matplotlib\n",
        "import matplotlib.pyplot as plot\n",
        "\n",
        "# create dataset for y axis\n",
        "squares = [1, 4, 9, 16, 25]\n",
        "\n",
        "# create dataset for x axis\n",
        "input_values = [1, 2, 3, 4, 5]\n",
        "\n",
        "# create figure for new plot\n",
        "fig, ax = plt.subplots()\n",
        "\n",
        "# generate plot\n",
        "ax.plot(input_values, squares)\n",
        "\n",
        "# add title\n",
        "ax.set_title(\"Square Numbers\")\n",
        "\n",
        "# add x axis label\n",
        "ax.set_xlabel(\"Value\")\n",
        "\n",
        "# add y axis label\n",
        "ax.set_ylabel(\"Square of Value\") \n",
        "\n",
        "# set x axis tick locations\n",
        "ax.set_xticks([0, 1, 2, 3, 4, 5])\n",
        "\n",
        "# set line style and color using characters\n",
        "ax.plot(input_values, squares, 'b--')\n",
        "\n",
        "# show plot\n",
        "plt.show()"
      ],
      "metadata": {
        "id": "nlPuyQH3oUqk"
      },
      "execution_count": null,
      "outputs": []
    },
    {
      "cell_type": "code",
      "source": [
        "# another example that combines these elements\n",
        "\n",
        "# import matplotlib\n",
        "import matplotlib.pyplot as plot\n",
        "\n",
        "# create dataset for y axis\n",
        "squares = [1, 4, 9, 16, 25]\n",
        "\n",
        "# create dataset for x axis\n",
        "input_values = [1, 2, 3, 4, 5]\n",
        "\n",
        "# create figure for new plot\n",
        "fig, ax = plt.subplots()\n",
        "\n",
        "# generate plot\n",
        "ax.plot(input_values, squares)\n",
        "\n",
        "# add title\n",
        "ax.set_title(\"Square Numbers\")\n",
        "\n",
        "# add x axis label\n",
        "ax.set_xlabel(\"Value\")\n",
        "\n",
        "# add y axis label\n",
        "ax.set_ylabel(\"Square of Value\") \n",
        "\n",
        "# set x axis tick locations\n",
        "ax.set_xticks([0, 1, 2, 3, 4, 5])\n",
        "\n",
        "# set line style and color using characters\n",
        "ax.plot(input_values, squares, color=\"blue\")\n",
        "\n",
        "# show plot\n",
        "plt.show()"
      ],
      "metadata": {
        "id": "qrifl3_roWKK"
      },
      "execution_count": null,
      "outputs": []
    },
    {
      "cell_type": "code",
      "source": [
        "# example code that draws a bar chart and uses a color map to assign unique bar colors\n",
        "\n",
        "# import matplotlib and numpy\n",
        "import matplotlib.pyplot as plt\n",
        "import numpy as np\n",
        "\n",
        "# set x and y values\n",
        "x = np.array([1, 2, 3])\n",
        "y = np.array([4, 5, 6])\n",
        "\n",
        "# assign colormap\n",
        "my_cmap = plt.get_cmap(\"viridis\")\n",
        "\n",
        "# scale colormap\n",
        "rescale = lambda y: (y - np.min(y)) / (np.max(y) - np.min(y))\n",
        "\n",
        "# generate plot\n",
        "plt.bar(x, y, color=my_cmap(rescale(y)))"
      ],
      "metadata": {
        "id": "tRqbGV9boXoc"
      },
      "execution_count": null,
      "outputs": []
    },
    {
      "cell_type": "code",
      "source": [
        "# example code that uses a for loop and color map to assign unique bin colors\n",
        "\n",
        "# import matplotlib\n",
        "import matplotlib.pyplot as plot\n",
        "from matplotlib import colors\n",
        "from matplotlib.ticker import PercentFormatter\n",
        "\n",
        "# create figure and axes\n",
        "fig, axs = plt.subplots(1, 2, tight_layout=True)\n",
        "\n",
        "# set values and number of bins \n",
        "N_points = 100000\n",
        "n_bins = 20\n",
        "\n",
        "# set normal distribution\n",
        "x = np.random.randn(N_points)\n",
        "y = .4 * x + np.random.randn(100000) + 5\n",
        "\n",
        "# N is the count in each bin, bins is the lower-limit of the bin\n",
        "N, bins, patches = axs[0].hist(x, bins=n_bins)\n",
        "\n",
        "# We'll color code by height, but you could use any scalar\n",
        "fracs = N / N.max()\n",
        "\n",
        "# we need to normalize the data to 0..1 for the full range of the colormap\n",
        "norm = colors.Normalize(fracs.min(), fracs.max())\n",
        "\n",
        "# Now, we'll loop through our objects and set the color of each accordingly\n",
        "for thisfrac, thispatch in zip(fracs, patches):\n",
        "    color = plt.cm.viridis(norm(thisfrac))\n",
        "    thispatch.set_facecolor(color)\n",
        "\n",
        "# We can also normalize our inputs by the total number of counts\n",
        "axs[1].hist(x, bins=n_bins, density=True)\n",
        "\n",
        "# Now we format the y-axis to display percentage\n",
        "axs[1].yaxis.set_major_formatter(PercentFormatter(xmax=1))"
      ],
      "metadata": {
        "id": "Rnjq9JjCoZo2"
      },
      "execution_count": null,
      "outputs": []
    },
    {
      "cell_type": "markdown",
      "source": [
        "### Style Sheets\n",
        "\n",
        "93. The prospect of having to make choices about font, style, color, and formatting for every component of your plot can be daunting.\n",
        "\n",
        "94. `matplotlib` includes a wide range of predefined styles.\n",
        "\n",
        "<p align=\"center\"><a href=\"https://github.com/kwaldenphd/matplotlib-intro/blob/main/figures/Figure_2.png?raw=true\"><img class=\"aligncenter\" src=\"https://github.com/kwaldenphd/matplotlib-intro/blob/main/figures/Figure_2.png?raw=true\" /></a></p>\n",
        "\n",
        "95. Similar to how `CSS` (cascading style sheets) interact with `HTML` (hyper-text markup language), these style sheets cover style and formatting elements like background colors, gridlines, line widths, fonts, font sizes, and more.\n",
        "\n",
        "96. To use one of these styles, we can add a single line of code before starting to generate the plot."
      ],
      "metadata": {
        "id": "uE-wgHZYobGG"
      }
    },
    {
      "cell_type": "code",
      "source": [
        "# import matplotlib\n",
        "import matplotlib.pyplot as plt\n",
        "\n",
        "# create dataset for y axis\n",
        "squares = [1, 4, 9, 16, 25]\n",
        "\n",
        "# create dataset for x axis\n",
        "input_values = [1, 2, 3, 4, 5]\n",
        "\n",
        "# set plot style\n",
        "plt.style.use('ggplot')\n",
        "\n",
        "# create figure for new plot\n",
        "fig, ax = plt.subplots()\n",
        "\n",
        "# generate plot\n",
        "ax.plot(input_values, squares, linewidth=3)\n",
        "\n",
        "# add title\n",
        "ax.set_title(\"Square Numbers\", fontsize=24)\n",
        "\n",
        "# add x axis label\n",
        "ax.set_xlabel(\"Value\", fontsize=14)\n",
        "\n",
        "# add y axis label\n",
        "ax.set_ylabel(\"Square of Value\", fontsize=14) \n",
        "\n",
        "# set tick label size\n",
        "ax.tick_params(axis='both', labelsize=14)\n",
        "\n",
        "# show plot\n",
        "plt.show()"
      ],
      "metadata": {
        "id": "tZnEAmYroc2s"
      },
      "execution_count": null,
      "outputs": []
    },
    {
      "cell_type": "markdown",
      "source": [
        "97. Consult the `matplotlib` [\"Style sheets reference\" page](https://matplotlib.org/3.2.1/gallery/style_sheets/style_sheets_reference.html) to learn more.\n",
        "\n",
        "98. For those interested in data journalism, most large publications have an internal style guide. And since 2017, the AP Stylebook has included a chapter on data journalism.\n",
        "- Daniel Funke, [\"The updated 'Bloomberg Way' s tyle guide focuses on best practices for data and multiplatform journalism\"](https://www.poynter.org/reporting-editing/2017/the-updated-bloomberg-way-style-guide-focuses-on-best-practices-for-data-and-multiplatform-journalism/) *Poynter* (18 July 2017)\n",
        "- Lauren Easton, [\"Digging into data journalism\"](https://blog.ap.org/industry-insights/digging-into-data-journalism) *Associated Press* (26 July 2017)\n",
        "\n",
        "## Legends\n",
        "\n",
        "99. When building more complex plots with multiple lines, comparisons, etc. plot legends are essential.\n",
        "\n",
        "100. Some key terms for working with `.legend()`:\n",
        "- ***legend entry***: exactly one key and one label\n",
        "- ***legend key***: colored/patterned marker to the left of each legend label\n",
        "- ***legend label***: text which describes the handle represented by the key\n",
        "- ***legend handle***: original object used to generate an appropriate entry in the legend\n",
        "\n",
        "101. We can create a legend in `matplotlib` using `.legend()`.\n",
        "\n",
        "102. The basic options for creating a legend:\n"
      ],
      "metadata": {
        "id": "mw9HfUj8oecU"
      }
    },
    {
      "cell_type": "code",
      "source": [
        "# calling legend with automatic detection\n",
        "legend()\n",
        "\n",
        "# calling legend from existing plot element labels\n",
        "legend(labels)\n",
        "\n",
        "# calling legend by defining legend elements\n",
        "legend(handles, labels)"
      ],
      "metadata": {
        "id": "vGVzSTOI613c"
      },
      "execution_count": null,
      "outputs": []
    },
    {
      "cell_type": "markdown",
      "source": [
        "103. For some types of visualizations, the default legend in `matplotlib` will be sufficient.\n",
        "\n",
        "104. One way to build a legend is to use the `label` argument for each piece of the plot.\n",
        "\n",
        "105. Using `.legend()` means the elements to be added to the legend are determined automatically.\n",
        "\n",
        "106. No additional arguments are passed to the function.\n",
        "\n",
        "107. Labels are set using the `.set_label()` method when creating the original handle.\n",
        "\n",
        "108. Elements with an empty string as the label or a label that starts with the undescore character `_` will not be included in the legend."
      ],
      "metadata": {
        "id": "qY79kGa963Ve"
      }
    },
    {
      "cell_type": "code",
      "source": [
        "# create handle for first line\n",
        "line_1, = ax.plot([LINE DATA], 'b--')\n",
        "\n",
        "# set label for line_1\n",
        "line_1.set_label('Line One')\n",
        "\n",
        "# create handle for second line\n",
        "line_2, = ax.plot([LINE DATA], color='green', linestyle='-.`)\n",
        "\n",
        "# set label for line_2\n",
        "line_2.set_label('Line Two')\n",
        "\n",
        "# create handle for third line that will NOT be included in the legend\n",
        "line_3, = ax.plot([LINE DATA], color=(255, 0, 0), linestyle=':')\n",
        "\n",
        "# alternate option to give line_3 a label but still not have it included in the legend\n",
        "line_3, = ax.plot([LINE DATA], color='#000000', linestyle='-')\n",
        "line_3.set_label('_Line Three')"
      ],
      "metadata": {
        "id": "Q_N8iUWO644f"
      },
      "execution_count": null,
      "outputs": []
    },
    {
      "cell_type": "markdown",
      "source": [
        "109. In this example, `ax.legend()` will use the `label` attributes for each line to add it to the legend.\n",
        "\n",
        "110. Line three will not be added because its label begins with the underscore character `_`.\n",
        "\n",
        "111. We can also pass the list of handles directly to `.legend()`:"
      ],
      "metadata": {
        "id": "j48M2q_F66JO"
      }
    },
    {
      "cell_type": "code",
      "source": [
        "# create handle for first line\n",
        "line_1, = ax.plot([LINE DATA], 'b--')\n",
        "\n",
        "# set label for line_1\n",
        "line_1.set_label('Line One')\n",
        "\n",
        "# create handle for second line\n",
        "line_2, = ax.plot([LINE DATA], color='green', linestyle='-.')\n",
        "\n",
        "# set label for line_2\n",
        "line_2.set_label('Line Two')\n",
        "\n",
        "# create legend\n",
        "ax.legend(handles=[line_1, line_2])"
      ],
      "metadata": {
        "id": "LHpDI3Vt689Z"
      },
      "execution_count": null,
      "outputs": []
    },
    {
      "cell_type": "code",
      "source": [
        "# Python example\n",
        "\n",
        "# create line 1\n",
        "line_up, = plt.plot([1,2,3], label='Line 2')\n",
        "\n",
        "# create line 2\n",
        "line_down, = plt.plot([3,2,1], label='Line 1')\n",
        "\n",
        "# create plot with legend\n",
        "plt.legend(handles=[line_up, line_down])"
      ],
      "metadata": {
        "id": "5LbfXd0sovjn"
      },
      "execution_count": null,
      "outputs": []
    },
    {
      "cell_type": "markdown",
      "source": [
        "112. In a situation where our handles do not have labels, we can pass both the handles and labels to `.legend()`.\n"
      ],
      "metadata": {
        "id": "uqXWOhODowbm"
      }
    },
    {
      "cell_type": "code",
      "source": [
        "ax.legend([line_1, line_2], ['Line One', 'Line Two'])\n"
      ],
      "metadata": {
        "id": "3KrStNxioxRK"
      },
      "execution_count": null,
      "outputs": []
    },
    {
      "cell_type": "code",
      "source": [
        "# Python example\n",
        "\n",
        "# create line 1\n",
        "line_up, = plt.plot([1,2,3], label='Line 2')\n",
        "\n",
        "# create line 2\n",
        "line_down, = plt.plot([3,2,1], label='Line 1')\n",
        "\n",
        "# create plot with legend\n",
        "plt.legend([line_up, line_down], ['Line Up', 'Line Down'])"
      ],
      "metadata": {
        "id": "o1qfKBbFoyUv"
      },
      "execution_count": null,
      "outputs": []
    },
    {
      "cell_type": "markdown",
      "source": [
        "113. In some situations, we might want to create a legend with handles that don't exist in our Figure or Axes.\n",
        "\n",
        "114. For example, in a situation where color has meaning, we want a legend that takes color values as handles, rather than values for data associated with a specific color.\n",
        "\n",
        "115. We can create a handle just for the legend.\n",
        "\n",
        "116. That is, there is no requirement for handles included in the legend to exist in the Figure or Axes.\n",
        "\n",
        "117. An example where the color red is a handle for our legend."
      ],
      "metadata": {
        "id": "DZQT3AbcozqE"
      }
    },
    {
      "cell_type": "code",
      "source": [
        "red_patch = mpatches.Patch(color='red', label='The red data')\n",
        "\n",
        "ax.legend(handles=[red_patch])\n",
        "\n",
        "plt.show()"
      ],
      "metadata": {
        "id": "GZm-l4u9o1-u"
      },
      "execution_count": null,
      "outputs": []
    },
    {
      "cell_type": "code",
      "source": [
        "# python example\n",
        "\n",
        "# import matplotlib\n",
        "import matplotlib.patches as mpatches\n",
        "import matplotlib.pyplot as plt\n",
        "\n",
        "# assign red path\n",
        "red_patch = mpatches.Patch(color='red', label='The red data')\n",
        "\n",
        "# create legend\n",
        "plt.legend(handles=[red_patch])\n",
        "\n",
        "# show plot\n",
        "plt.show()"
      ],
      "metadata": {
        "id": "2BA9ooiGo27H"
      },
      "execution_count": null,
      "outputs": []
    },
    {
      "cell_type": "markdown",
      "source": [
        "118. The same is true for line styles or marker symbols.\n",
        "\n",
        "119. An example where blue lines with stars are a handle for our legend."
      ],
      "metadata": {
        "id": "zLL9xiMBo37_"
      }
    },
    {
      "cell_type": "code",
      "source": [
        "blue_line = mlines.Line2D([], [], color='blue', marker='*', markersize=15, label='Blue stars')\n",
        "\n",
        "ax.legend(handles=[blue_line])\n",
        "\n",
        "plt.show()"
      ],
      "metadata": {
        "id": "B5lavD_so46D"
      },
      "execution_count": null,
      "outputs": []
    },
    {
      "cell_type": "markdown",
      "source": [
        "120. We can also customize where a legend is located for a plot using the `loc` keyword argument.\n",
        "\n",
        "121. String arguments for `loc`:\n",
        "\n",
        "Location String | Location Code\n",
        "--- | ---\n",
        "`'best'` | 0\n",
        "`'upper right'` | 1\n",
        "`'upper left'` | 2\n",
        "`'lower left'` | 3\n",
        "`'lower right'` | 4\n",
        "`'right'` | 5\n",
        "`'center left'` | 6\n",
        "`'center right'` | 7\n",
        "`'lower center'` | 8\n",
        "`'upper center'` | 9\n",
        "`'center'` | 10\n",
        "\n",
        "122. To invoke these keyword arguments when calling the `.legend()` function:"
      ],
      "metadata": {
        "id": "hkPHuHLso6Pd"
      }
    },
    {
      "cell_type": "code",
      "source": [
        "ax.legend(loc='best')\n",
        "\n",
        "ax.legend(handles=[line_1, line_2], loc='upper right')\n",
        "\n",
        "ax.legend([line_1, line_2], ['Line One', 'Line Two'], loc=2)\n",
        "\n",
        "ax.legend(handles=[red_patch], loc=7)\n",
        "\n",
        "ax.legend(handles=[blue_line], loc='upper center')"
      ],
      "metadata": {
        "id": "w2djQEOgo8Ed"
      },
      "execution_count": null,
      "outputs": []
    },
    {
      "cell_type": "code",
      "source": [
        "# python example\n",
        "\n",
        "# import package\n",
        "import matplotlib.lines as mlines\n",
        "\n",
        "# assign blue line\n",
        "blue_line = mlines.Line2D([], [], color='blue', marker='*',\n",
        "                          markersize=15, label='Blue stars')\n",
        "\n",
        "# create legend in upper left corner\n",
        "plt.legend(handles=[blue_line], loc=\"upper left\")\n",
        "\n",
        "# show plot\n",
        "plt.show()"
      ],
      "metadata": {
        "id": "Kuw-AH2do9rQ"
      },
      "execution_count": null,
      "outputs": []
    },
    {
      "cell_type": "markdown",
      "source": [
        "123. In situations where we want to customize where the legend is located, we can use `bbox_to_anchor` in conjunction with `loc`.\n",
        "\n",
        "124. This argument allows arbitrary placement of the legend.\n",
        "\n",
        "125. `bbox` coordinates are interpreted in a coordinate system, which uses the default `Axes` or `Figure` coordinates.\n",
        "\n",
        "126. A few examples:"
      ],
      "metadata": {
        "id": "Gy6Yaxr2o-7a"
      }
    },
    {
      "cell_type": "code",
      "source": [
        "# example that puts the legend's upper-right hand corner in the center of the axes\n",
        "plt.legend(loc='upper right', bbox_to_anchor=(0.5, 0.5))\n",
        "\n",
        "# example that puts the legend in the best location in the bottom right quadrant of the axes\n",
        "plt.legend(loc='best', bbox_to_anchor=(0.5, 0., 0.5, 0.5))\n",
        "\n",
        "# example that places legend above plot and expands legend to full given bounding box\n",
        "plt.legend(loc='lower left', bbox_to_anchor=(0., 1.02, 1., .102), ncol=2, mode='expand', borderaxespad=0.))\n",
        "\n",
        "# example that places a legend to the right of a plot\n",
        "plt.legend(loc='upper left', bbox_to_anchor=(1.05, 1), borderaxespad=0.))"
      ],
      "metadata": {
        "id": "hQLIf4QEo_-n"
      },
      "execution_count": null,
      "outputs": []
    },
    {
      "cell_type": "code",
      "source": [
        "# python example\n",
        "\n",
        "# import package\n",
        "import matplotlib.lines as mlines\n",
        "\n",
        "# assign blue line\n",
        "blue_line = mlines.Line2D([], [], color='blue', marker='*',\n",
        "                          markersize=15, label='Blue stars')\n",
        "\n",
        "# create legend in upper left corner\n",
        "plt.legend(handles=[blue_line], loc='upper left', bbox_to_anchor=(1.05, 1), borderaxespad=0.)\n",
        "\n",
        "# show plot\n",
        "plt.show()"
      ],
      "metadata": {
        "id": "puR_X-KgpBWk"
      },
      "execution_count": null,
      "outputs": []
    },
    {
      "cell_type": "markdown",
      "source": [
        "127. You'll notice the last two examples include additional parameters.\n",
        "\n",
        "### Additional Resources\n",
        "\n",
        "128. For more on these parameters and other `.legend()` customization options:\n",
        "- [`matplotlib.pyplot.legend`](https://matplotlib.org/3.3.3/api/_as_gen/matplotlib.pyplot.legend.html#matplotlib.pyplot.legend)\n",
        "- [`matplotlib` \"Legend guide\"](https://matplotlib.org/3.3.3/tutorials/intermediate/legend_guide.html)\n",
        "\n",
        "<blockquote>Q3: Create your own matplotlib figure and include the following style elements. Include code + comments.:\n",
        " <ul>\n",
        "  <li>Title</li>\n",
        "  <li>Axis labels</li>\n",
        "  <li>Tick marks</li>\n",
        "  <li>Tick labels</li>\n",
        "  <li>Line or marker style</li>\n",
        "  <li>Line or marker color</li>\n",
        "  <li>Legend</li>\n",
        " </ul>\n",
        " </blockquote>"
      ],
      "metadata": {
        "id": "RZq1FYvSpC75"
      }
    },
    {
      "cell_type": "markdown",
      "source": [
        "# Other Types of Plots\n"
      ],
      "metadata": {
        "id": "b8QSRncKpEET"
      }
    },
    {
      "cell_type": "markdown",
      "source": [
        "## Subplots\n",
        "\n",
        "129. As mentioned previously, a single `Figure` object can contain multiple `Axes` or plots.\n",
        "\n",
        "130. To create a `Figure` with two subplots, we pass number arguments to `plt.subplots()`.\n",
        "\n",
        "131. An example that compares dampened and undampened oscillation over time (in seconds)."
      ],
      "metadata": {
        "id": "V8rj2MQQpFRb"
      }
    },
    {
      "cell_type": "code",
      "source": [
        "import numpy as np\n",
        "import matplotlib.pyplot as plt\n",
        "\n",
        "# create x axis for first subplot\n",
        "x1 = np.linspace(0.0, 5.0)\n",
        "\n",
        "# create x axis for second subplot\n",
        "x2 = np.linspace(0.0, 2.0)\n",
        "\n",
        "# create y axis for first subplot\n",
        "y1 = np.cos(2 * np.pi * x1) * np.exp(-x1)\n",
        "\n",
        "# create y axis for second subplot\n",
        "y2 = np.cos(2 * np.pi * x2)\n",
        "\n",
        "# create figure with two axes/subplots, stacked vertically on top of each other\n",
        "fig, (ax1, ax2) = plt.subplots(2, 1)\n",
        "\n",
        "# set figure title\n",
        "fig.suptitle('A tale of 2 subplots')\n",
        "\n",
        "# create first subplot \n",
        "ax1.plot(x1, y1, 'o-')\n",
        "ax1.set_ylabel('Damped oscillation')\n",
        "\n",
        "# create  second subplot\n",
        "ax2.plot(x2, y2, '.-')\n",
        "ax2.set_xlabel('time (s)')\n",
        "ax2.set_ylabel('Undamped')\n",
        "\n",
        "#show plot\n",
        "plt.show()"
      ],
      "metadata": {
        "id": "k-31hiui8sfl"
      },
      "execution_count": null,
      "outputs": []
    },
    {
      "cell_type": "markdown",
      "source": [
        "### Additional Resources\n",
        "\n",
        "132. For more on subplots:\n",
        "- [`matplotlib`, Multiple subplots](https://matplotlib.org/gallery/subplots_axes_and_figures/subplot.html)\n",
        "- [`matplotlib`, Subplots, axes, and figures](https://matplotlib.org/gallery/index.html#subplots-axes-and-figures)\n",
        "- [Jake VanderPlas, \"Multiple Subplots\" from *Python Data Science Handbook*](https://jakevdp.github.io/PythonDataScienceHandbook/04.08-multiple-subplots.html)\n"
      ],
      "metadata": {
        "id": "uZUN4t6g8uPP"
      }
    },
    {
      "cell_type": "markdown",
      "source": [
        "## Scatterplots\n"
      ],
      "metadata": {
        "id": "wpXA7rFd8vHb"
      }
    },
    {
      "cell_type": "markdown",
      "source": [
        "### `.scatter()`\n",
        "\n",
        "133. The `.scatter()` function creates basic scatter plot visualizations.\n",
        "\n",
        "134. `.scatter()` can take additional optional size, style, and color arguments.\n",
        "\n",
        "135. To plot a single point using `.scatter()`:"
      ],
      "metadata": {
        "id": "vAdThHO08wNn"
      }
    },
    {
      "cell_type": "code",
      "source": [
        "fig, ax = plt.subplots()\n",
        "ax.scatter(2, 4)\n",
        "\n",
        "plt.show()"
      ],
      "metadata": {
        "id": "jWuR784A8w_w"
      },
      "execution_count": null,
      "outputs": []
    },
    {
      "cell_type": "markdown",
      "source": [
        "136. We can plot a series of points by passing lists of `X` and `Y` values to `.scatter()`:\n"
      ],
      "metadata": {
        "id": "iNQ1kxz38x7p"
      }
    },
    {
      "cell_type": "code",
      "source": [
        "# import matplotlib \n",
        "import matplotlib.pyplot as plt\n",
        "\n",
        "# set x values\n",
        "x_values = [1, 2, 3, 4, 5]\n",
        "\n",
        "# set y values\n",
        "y_values = [1, 4, 9, 16, 25]\n",
        "\n",
        "# create figure with axes\n",
        "fig, ax = plt.subplots()\n",
        "\n",
        "# create scatter plot\n",
        "ax.scatter(x_values, y_values, s=100)\n",
        "\n",
        "#show plot\n",
        "plt.show()"
      ],
      "metadata": {
        "id": "kD5BjMqY8zH0"
      },
      "execution_count": null,
      "outputs": []
    },
    {
      "cell_type": "markdown",
      "source": [
        "137. We could use the syntax outlined previously to set labels, titles, tick marks, etc.\n",
        "\n",
        "138. We can also combine elements of a scatter plot and line plot to have points connected by a line:"
      ],
      "metadata": {
        "id": "Wtd8Au0M80Se"
      }
    },
    {
      "cell_type": "code",
      "source": [
        "# set x values\n",
        "x = np.linspace(0, 10, 30)\n",
        "\n",
        "# set y values\n",
        "y = np.sin(x)\n",
        "\n",
        "# create figure with axis\n",
        "fig, ax = plt.subplots()\n",
        "\n",
        "# create scatter plot\n",
        "ax.scatter(x, y, '-ok')\n",
        "\n",
        "# show plot\n",
        "plt.show()"
      ],
      "metadata": {
        "id": "8oeM8yvq81Yd"
      },
      "execution_count": null,
      "outputs": []
    },
    {
      "cell_type": "markdown",
      "source": [
        "### `.plt.scatter()`\n",
        "\n",
        "139. We can create more highly customized scatter plots using `plt.scatter()`."
      ],
      "metadata": {
        "id": "Ntzk3k1282Wj"
      }
    },
    {
      "cell_type": "code",
      "source": [
        "# set x values\n",
        "x = nplinspace(0, 10, 30)\n",
        "\n",
        "# set y values\n",
        "y = np.sin(x)\n",
        "\n",
        "# create figure with axis\n",
        "fig, ax = plt.subplots()\n",
        "\n",
        "# create scatter plot\n",
        "ax.scatter(x, y, marker='o')\n",
        "\n",
        "# show plot\n",
        "plt.show()"
      ],
      "metadata": {
        "id": "Lr_VbjmY83dz"
      },
      "execution_count": null,
      "outputs": []
    },
    {
      "cell_type": "markdown",
      "source": [
        "140. `plt.scatter()` allows us to customize each individual point in the scatter plot, through individual customization or mapping to data.\n",
        "\n",
        "141. An example random scatter plot with points of different colors and sizes."
      ],
      "metadata": {
        "id": "T9sYPAFa84fX"
      }
    },
    {
      "cell_type": "code",
      "source": [
        "# set random state\n",
        "rng = np.random.RandomState(0)\n",
        "\n",
        "# set x values\n",
        "x = rng.randn(100)\n",
        "\n",
        "# set y values\n",
        "y = rng.randn(100)\n",
        "\n",
        "# set colors\n",
        "colors = rng.rand(100)\n",
        "\n",
        "# set size\n",
        "sizes = 1000 * rng.rand(100)\n",
        "\n",
        "# create figure with axes\n",
        "fig, ax = plt.subplots()\n",
        "\n",
        "# create scatter plot\n",
        "plot = ax.scatter(x, y, c=colors, s=sizes, alpha=0.3, cmap='viridis')\n",
        "\n",
        "# show color scale\n",
        "plt.colorbar(plot)\n",
        "\n",
        "# show plot\n",
        "plt.show()"
      ],
      "metadata": {
        "id": "-2X0ISTN86xP"
      },
      "execution_count": null,
      "outputs": []
    },
    {
      "cell_type": "markdown",
      "source": [
        "142. Another `plt.scatter()` example using data on flower petal and sepal size."
      ],
      "metadata": {
        "id": "Nf9gA4iS88Ck"
      }
    },
    {
      "cell_type": "code",
      "source": [
        "#import Scikit-Learn\n",
        "from sklearn.datasets import load_iris\n",
        "\n",
        "# load data \n",
        "iris = load_iris()\n",
        "\n",
        "# create data object\n",
        "features = iris.data.T\n",
        "\n",
        "# create figure with axes\n",
        "fig, ax = plt.subplots()\n",
        "\n",
        "# create scatter plot\n",
        "plot_2 = ax.scatter(features[0], features[1], alpha=0.2, s=100*features[3], c=iris.target, cmap='viridis')\n",
        "\n",
        "# set x axis label\n",
        "ax.set_xlabel(iris.feature_names[0])\n",
        "\n",
        "# set y axis label\n",
        "ax.set_ylabel(iris.feature_names[1])\n",
        "\n",
        "# show color scale\n",
        "plt.colorbar(plot_2)\n",
        "\n",
        "# show plot\n",
        "plt.show()"
      ],
      "metadata": {
        "id": "tDRR_23t89xO"
      },
      "execution_count": null,
      "outputs": []
    },
    {
      "cell_type": "markdown",
      "source": [
        "143. For smaller datasets where a high level of customization is important, `plt.scatter()` will be the better option.\n",
        "\n",
        "144. For larger datasets, `plt.plot` will perform more effectively (because the program is not styling each individual point when creating the plot).\n",
        "\n",
        "### Additional Resources\n",
        "\n",
        "145. For more on scatterplots:\n",
        "- [`matplotlib`, \"Scatter plot\"](https://matplotlib.org/gallery/shapes_and_collections/scatter.html#sphx-glr-gallery-shapes-and-collections-scatter-py)\n",
        "- [`matplotlib`, \"Scatter Demo2\"](https://matplotlib.org/gallery/lines_bars_and_markers/scatter_demo2.html)\n",
        "- [`matplotlib.pyplot.scatter`](https://matplotlib.org/3.3.3/api/_as_gen/matplotlib.pyplot.scatter.html)\n",
        "- [Jake VanderPlas, \"Simple Scatter Plots\" from *Python Data Science Handbook*](https://jakevdp.github.io/PythonDataScienceHandbook/04.02-simple-scatter-plots.html)\n"
      ],
      "metadata": {
        "id": "9ElE9Xc98_Ha"
      }
    },
    {
      "cell_type": "markdown",
      "source": [
        "## Histograms\n",
        "\n",
        "146. A histogram is a type of plot that approximates the distribution of numerical data.\n",
        "\n",
        "147. The first step in constructing a histogram is to `bin` or `bucket` the range of values.\n",
        "\n",
        "148. In other words, we need to divide the entire range of values into a series of intervals.\n",
        "\n",
        "149. The second step in constructing a histogram is to count how many values fall into each interval.\n",
        "\n",
        "150. In a histogram, the bins are usually consecutive, non-overlapping intervals. \n",
        "\n",
        "151. The bins must be adjacent and are often (but not necessarily) of equal size.\n",
        "\n",
        "152. To plot a 1D histogram, we only need a single vector of numbers.\n",
        "\n",
        "153. 2D histograms require a second vector.\n",
        "\n",
        "154. A basic 1D histogram:"
      ],
      "metadata": {
        "id": "tzcdYpAP9Aol"
      }
    },
    {
      "cell_type": "code",
      "source": [
        "# import statements\n",
        "import numpy as np\n",
        "import matplotlib.pyplot as plt\n",
        "\n",
        "# set data\n",
        "data = np.random.randn(1000)\n",
        "\n",
        "# create figure and axes\n",
        "fig, ax = plt.subplots()\n",
        "\n",
        "# create histogram with no specified bins\n",
        "ax.hist(data)\n",
        "\n",
        "# show plot\n",
        "plt.show()"
      ],
      "metadata": {
        "id": "BZVxkt2u9B7X"
      },
      "execution_count": null,
      "outputs": []
    },
    {
      "cell_type": "markdown",
      "source": [
        "155. Another example of a 1D histogram, this time with a `bins` keyword argument:\n"
      ],
      "metadata": {
        "id": "Z97bxcHg9C3e"
      }
    },
    {
      "cell_type": "code",
      "source": [
        "# import statements\n",
        "import matplotlib.pyplot as plt\n",
        "import numpy as np\n",
        "from matplotlib import colors\n",
        "from matplotlib.ticker import PercentFormatter\n",
        "\n",
        "# Fixing random state for reproducibility\n",
        "np.random.seed(19680801)\n",
        "\n",
        "# set number of points\n",
        "N_points = 100000\n",
        "\n",
        "# set number of bins\n",
        "n_bins = 20\n",
        "\n",
        "# generate normal distribution, centered at x=0 and y=5\n",
        "x = np.random.randn(N_points)\n",
        "y = .4 * x + np.random.randn(100000) + 5\n",
        "\n",
        "# create figure and axes\n",
        "fig, axs = plt.subplots(1, 2, sharey=True, tight_layout=True)\n",
        "\n",
        "# set number of bins and generate histograms\n",
        "axs[0].hist(x, bins=n_bins)\n",
        "axs[1].hist(y, bins=n_bins)\n",
        "\n",
        "# show plot\n",
        "plt.show()"
      ],
      "metadata": {
        "id": "DX5DW4g49FE3"
      },
      "execution_count": null,
      "outputs": []
    },
    {
      "cell_type": "markdown",
      "source": [
        "156. We could use the syntax outlined previously to set labels, titles, tick marks, etc.\n",
        "\n",
        "157. The default type of histogram in `matplotlib` is a tranditional `bar`-type histogram.\n",
        "\n",
        "158. We can use the `histtype` attribute to draw other kinds of histograms.\n",
        "- `barstacked`: bar-type histogram with stacked data\n",
        "- `step`: generates an unfilled lineplot\n",
        "- `stepfilled`: generates a filled lineplot\n",
        "\n",
        "159. We can also customize our histogram by specifying colors, based on `Y` axis values.\n",
        "\n",
        "160. An example of a `stepfilled` histogram with no edges and a customized color:"
      ],
      "metadata": {
        "id": "MJ8ljQ0h9Qng"
      }
    },
    {
      "cell_type": "code",
      "source": [
        "ax.hist(x, bins=n_bins, histtype='stepfilled', color='steelblue', edgecolor='none')"
      ],
      "metadata": {
        "id": "tVqTGJ7M9Rdm"
      },
      "execution_count": null,
      "outputs": []
    },
    {
      "cell_type": "markdown",
      "source": [
        "161. For more keyword arguments and attributes that can be passed to `.hist()`: [`matplotlib.pyplot.hist`](https://matplotlib.org/3.3.3/api/_as_gen/matplotlib.pyplot.hist.html)\n",
        "\n",
        "162. An example that color codes by height and uses the data range to set the color map."
      ],
      "metadata": {
        "id": "QNn92Byh9SmC"
      }
    },
    {
      "cell_type": "code",
      "source": [
        "# create figure and axes\n",
        "fig, axs = plt.subplots(1, 2, tight_layout=True)\n",
        "\n",
        "# N is the count in each bin, bins is the lower-limit of the bin\n",
        "N, bins, patches = axs[0].hist(x, bins=n_bins)\n",
        "\n",
        "# We'll color code by height, but you could use any scalar\n",
        "fracs = N / N.max()\n",
        "\n",
        "# we need to normalize the data to 0..1 for the full range of the colormap\n",
        "norm = colors.Normalize(fracs.min(), fracs.max())\n",
        "\n",
        "# Now, we'll loop through our objects and set the color of each accordingly\n",
        "for thisfrac, thispatch in zip(fracs, patches):\n",
        "    color = plt.cm.viridis(norm(thisfrac))\n",
        "    thispatch.set_facecolor(color)\n",
        "\n",
        "# We can also normalize our inputs by the total number of counts\n",
        "axs[1].hist(x, bins=n_bins, density=True)\n",
        "\n",
        "# Now we format the y-axis to display percentage\n",
        "axs[1].yaxis.set_major_formatter(PercentFormatter(xmax=1))"
      ],
      "metadata": {
        "id": "i1WOoWVk9WcK"
      },
      "execution_count": null,
      "outputs": []
    },
    {
      "cell_type": "markdown",
      "source": [
        "### Additional Resources\n",
        "\n",
        "163. For more on histograms:\n",
        "- [`matplotlib` \"Some features of the histogram (hist) function\"](https://matplotlib.org/gallery/statistics/histogram_features.html)\n",
        "- [`matplotlib`, \"Histograms\"](https://matplotlib.org/gallery/statistics/hist.html#sphx-glr-gallery-statistics-hist-py)\n",
        "- [`matplotlib.pyplot.hist`](https://matplotlib.org/3.3.3/api/_as_gen/matplotlib.pyplot.hist.html)\n",
        "- [Jake VanderPlas, \"Histograms, Binnings, and Density\" from *Python Data Science Handbook*](https://jakevdp.github.io/PythonDataScienceHandbook/04.05-histograms-and-binnings.html)"
      ],
      "metadata": {
        "id": "profabMu9X6G"
      }
    },
    {
      "cell_type": "markdown",
      "source": [
        "## Bar Charts\n",
        "\n",
        "164. One of the common uses for bar charts is to plot categorial variables.\n",
        "\n",
        "165. A bar chart presents categorical data with rectangular bars with heights or lengths porportional to the values they represent.\n",
        "\n",
        "166. We can create a basic vertical bar chart using `.bar()`."
      ],
      "metadata": {
        "id": "8YF-JdQw9ZOv"
      }
    },
    {
      "cell_type": "code",
      "source": [
        "# import matplotlib\n",
        "import matplotlib.pyplot as plt\n",
        "\n",
        "# set dictionary with data categories and amounts\n",
        "data = {'apple': 10, 'orange': 15, 'lemon': 5, 'lime': 20}\n",
        "\n",
        "# get category names from dictionary keys\n",
        "names = list(data.keys())\n",
        "\n",
        "# get category values from dictionary values\n",
        "values = list(data.values())\n",
        "\n",
        "# create figure\n",
        "fig, axs = plt.subplots()\n",
        "\n",
        "# create bar chart\n",
        "axs.bar(names, values) \n",
        "\n",
        "# show plot\n",
        "plt.show()"
      ],
      "metadata": {
        "id": "wVU29lH49apQ"
      },
      "execution_count": null,
      "outputs": []
    },
    {
      "cell_type": "markdown",
      "source": [
        "167. This kind of categorical data can be plotted different ways, depending on the type of data and purpose or intent for the visualization.\n",
        "\n",
        "168. For example, we could plot the fruit data from the previous example as a bar chart, scatter plot, and line plot.\n",
        "\n",
        "169. An example of those three types side-by-side:"
      ],
      "metadata": {
        "id": "10GkK6PY9b8e"
      }
    },
    {
      "cell_type": "code",
      "source": [
        "# import matplotlib\n",
        "import matplotlib.pyplot as plt\n",
        "\n",
        "# set dictionary with data categories and amounts\n",
        "data = {'apple': 10, 'orange': 15, 'lemon': 5, 'lime': 20}\n",
        "\n",
        "# get category names from dictionary keys\n",
        "names = list(data.keys())\n",
        "\n",
        "# get category values from dictionary values\n",
        "values = list(data.values())\n",
        "\n",
        "# create figure with 3 subplots \n",
        "fig, axs = plt.subplots(1, 3, figsize=(9, 3), sharey=True)\n",
        "\n",
        "# create bar chart\n",
        "axs[0].bar(names, values)\n",
        "\n",
        "# create scatter plot\n",
        "axs[1].scatter(names, values)\n",
        "\n",
        "# create line plot\n",
        "axs[2].plot(names, values)\n",
        "\n",
        "# figure title\n",
        "fig.suptitle('Categorical Plotting')\n",
        "\n",
        "# show plot\n",
        "plt.show()"
      ],
      "metadata": {
        "id": "mF7mvcNJ9de4"
      },
      "execution_count": null,
      "outputs": []
    },
    {
      "cell_type": "markdown",
      "source": [
        "170. We could use the syntax outlined previously to set labels, titles, tick marks, etc.\n",
        "\n",
        "### Horizontal Bar Chart\n",
        "\n",
        "171. We can also create a horizontal bar chart using `.barh()`."
      ],
      "metadata": {
        "id": "4gnDfWyf9elq"
      }
    },
    {
      "cell_type": "code",
      "source": [
        "# import matplotlib\n",
        "import matplotlib.pyplot as plt\n",
        "\n",
        "# set dictionary with data categories and amounts\n",
        "data = {'apple': 10, 'orange': 15, 'lemon': 5, 'lime': 20}\n",
        "\n",
        "# get category names from dictionary keys\n",
        "names = list(data.keys())\n",
        "\n",
        "# get category values from dictionary values\n",
        "values = list(data.values())\n",
        "\n",
        "# create figure\n",
        "fig, axs = plt.subplots()\n",
        "\n",
        "# create horizontal bar chart\n",
        "axs.barh(values, names) \n",
        "\n",
        "# show plot\n",
        "plt.show()"
      ],
      "metadata": {
        "id": "ZiiRR1VI9fys"
      },
      "execution_count": null,
      "outputs": []
    },
    {
      "cell_type": "markdown",
      "source": [
        "172. You'll notice when we call `.barh()`, the general `x, y` syntax is the same. \n",
        "\n",
        "173. The first variable passed to the function is the `X` axis data, and the second variable passed to the function is the `Y` axis data.\n",
        "\n",
        "174. We could use the syntax outlined previously to set labels, titles, tick marks, etc.\n",
        "\n",
        "175. For a horizontal bar chart, you may need to invert the `Y` axis labels using `.invert_yaxis()` to read the `Y` axis labels top-to-bottom.\n",
        "\n",
        "### Stacked Bar Chart\n",
        "\n",
        "176. Just like we can create a stacked histogram, we can also create a stacked bar chart.\n",
        "\n",
        "177. This is especially useful when wanting to represent categorical data and multiple levels of abstractions.\n",
        "\n",
        "178. An example of data well-suited to a stacked bar chart might be population data in which a bar chart with country-level data might also need to be disaggregated by gender or race.\n",
        "\n",
        "179. To create a stacked bar chart, you create two sets of bars for the plot and assign one to the `bottom` parameter.\n",
        "\n",
        "180. The `bottom` parameter sets the `Y` axis coordinates of the bottom bars.\n",
        "\n",
        "181. Error bars can also be useful to deliniate components of a stacked bar chart.\n",
        "\n",
        "182. In `matplotlib` error bars are vertical or horizontal solid lines added to bar tips. \n",
        "\n",
        "183. The error bar values are +/- sizes relative to the data.\n",
        "\n",
        "184. The `yerr` parameter is used to set error bars for the `Y` axis.\n",
        "\n",
        "185. Putting this all together in an example that shows score data for 5 different groups, disaggregated by test time:"
      ],
      "metadata": {
        "id": "1lpwEyJZ9h8G"
      }
    },
    {
      "cell_type": "code",
      "source": [
        "# import matplotlib\n",
        "import matplotlib.pyplot as plt\n",
        "\n",
        "# set x axis labels\n",
        "labels = ['G1', 'G2', 'G3', 'G4', 'G5']\n",
        "\n",
        "# mean scores for morning test takers, by group\n",
        "morning_means = [20, 35, 30, 35, 27]\n",
        "\n",
        "# mean scores for afternoon test takers, by group\n",
        "afternoon_means = [25, 32, 34, 20, 25]\n",
        "\n",
        "# number of test takers for morning time, by group\n",
        "morning_std = [2, 3, 4, 1, 2]\n",
        "\n",
        "# number of afternoon test takers, by group\n",
        "afternoon_std = [3, 5, 2, 3, 3]\n",
        "\n",
        "# sets bar width\n",
        "width = 0.35\n",
        "\n",
        "# creates figure and axes\n",
        "fig, ax = plt.subplots()\n",
        "\n",
        "# creates first set of bars for morning test scores\n",
        "ax.bar(labels, morning_means, width, yerr=morning_std, label='Morning')\n",
        "\n",
        "# creates second set of bars for afternoon test scores, stacked on morning bars\n",
        "ax.bar(labels, afternoon_means, width, yerr=afternoon_std, bottom=morning_means,\n",
        "       label='Afternoon')\n",
        "\n",
        "# sets y axis label\n",
        "ax.set_ylabel('Scores')\n",
        "\n",
        "# set title\n",
        "ax.set_title('Scores by test time')\n",
        "\n",
        "# create legend\n",
        "ax.legend()\n",
        "\n",
        "# show plot\n",
        "plt.show()"
      ],
      "metadata": {
        "id": "zQZWn1GG9jfr"
      },
      "execution_count": null,
      "outputs": []
    },
    {
      "cell_type": "markdown",
      "source": [
        "### Grouped Bar Chart\n",
        "\n",
        "186. Grouped bar charts can also be useful for showing disaggregated data, or data at multiple levels of abstraction.\n",
        "\n",
        "187. When creating a grouped bar chart, we have to set label locations for each of the bars.\n",
        "\n",
        "188. And the rectangles that are drawn as the bars will need to be half as wide so everything fits on the `X` axis.\n",
        "\n",
        "189. We can also add a custom annotation to show the value for each bar in the chart, displaying its height.\n",
        "\n",
        "190. To put that all together, modifying the previous stacked bar example to create a grouped bar chart."
      ],
      "metadata": {
        "id": "Jys4eO3x9lGG"
      }
    },
    {
      "cell_type": "code",
      "source": [
        "# import matplotlib\n",
        "import matplotlib.pyplot as plt\n",
        "\n",
        "# import numpy\n",
        "import numpy as np\n",
        "\n",
        "# set x axis labels\n",
        "labels = ['G1', 'G2', 'G3', 'G4', 'G5']\n",
        "\n",
        "# mean scores for morning test takers, by group\n",
        "morning_means = [20, 35, 30, 35, 27]\n",
        "\n",
        "# mean scores for afternoon test takers, by group\n",
        "afternoon_means = [25, 32, 34, 20, 25]\n",
        "\n",
        "# set label locations\n",
        "x = np.arange(len(labels))\n",
        "\n",
        "# set bar width\n",
        "width = 0.35\n",
        "\n",
        "# create figure and axes\n",
        "fig, ax = plt.subplots()\n",
        "\n",
        "# draw first set of bars/rectangles\n",
        "rects1 = ax.bar(x - width/2, morning_means, width, label='Morning')\n",
        "\n",
        "# draw second set of bars/rectangles\n",
        "rects2 = ax.bar(x + width/2, afternoon_means, width, label='Afternoon')\n",
        "\n",
        "# set y axis label, figure title, tick marks, and tickmark labels\n",
        "ax.set_ylabel('Scores')\n",
        "ax.set_title('Scores by test time')\n",
        "ax.set_xticks(x)\n",
        "ax.set_xticklabels(labels)\n",
        "\n",
        "# create legend\n",
        "ax.legend()\n",
        "\n",
        "# create named function that adds custom annotation showing rectangle height value above each bar \n",
        "def autolabel(rects):\n",
        "    \"\"\"Attach a text label above each bar in *rects*, displaying its height.\"\"\"\n",
        "    for rect in rects:\n",
        "        height = rect.get_height()\n",
        "        ax.annotate('{}'.format(height),\n",
        "                    xy=(rect.get_x() + rect.get_width() / 2, height),\n",
        "                    xytext=(0, 3),  # 3 points vertical offset\n",
        "                    textcoords=\"offset points\",\n",
        "                    ha='center', va='bottom')\n",
        "\n",
        "# applies autolabel function to each group of bars\n",
        "autolabel(rects1)\n",
        "autolabel(rects2)\n",
        "\n",
        "# adjust figure layout\n",
        "fig.tight_layout()\n",
        "\n",
        "# show plot\n",
        "plt.show()"
      ],
      "metadata": {
        "id": "c7qadG3j9oYC"
      },
      "execution_count": null,
      "outputs": []
    },
    {
      "cell_type": "markdown",
      "source": [
        "### Additional Resources\n",
        "\n",
        "191. For more on bar charts and plotting categorical data:\n",
        "- [`matplotlib`, Plotting categorical variables](https://matplotlib.org/gallery/lines_bars_and_markers/categorical_variables.html#sphx-glr-gallery-lines-bars-and-markers-categorical-variables-py)\n",
        "- [`matplotlib`, Horizontal bar chart](https://matplotlib.org/gallery/lines_bars_and_markers/barh.html)\n",
        "- [`matplotlib`, Stacked bar chart](https://matplotlib.org/gallery/lines_bars_and_markers/bar_stacked.html)\n",
        "- [`matplotlib`, Percentiles as horizontal bar chart](https://matplotlib.org/gallery/statistics/barchart_demo.html)\n",
        "\n"
      ],
      "metadata": {
        "id": "T1I6LLTU9roo"
      }
    },
    {
      "cell_type": "markdown",
      "source": [
        "## Pie Charts\n",
        "\n",
        "192. A pie chart is a circular graphic, divided into slices to illustrate numerical portion.\n",
        "\n",
        "193. The arc length of each slice (and thus its central angle and area) is proportional to the quantity it represents.\n",
        "\n",
        "194. Data visualization and information perception research suggests that, while useful in some cases, making visual comparisons within a pie chart or across pie charts is challenging.\n",
        "\n",
        "195. This research recommends pie charts be replaced by other types of plots (scatter plots, density plots, bar charts, box plots, etc).\n",
        "\n",
        "196. To learn more:\n",
        "- Leland Wilkinson, [*The Grammar of Graphics*](https://www.springer.com/gp/book/9780387245447) (Springer, 2005). [Link to electronic access through Hesburgh Libraries](https://onesearch.library.nd.edu/permalink/f/1phik6l/ndu_aleph003079467).\n",
        "- Edward Tufte, [*The Visual Display of Quantitative Information*](dd) (Graphics Press, 1983). [Link to catalog entry for Hesburgh Library physical copy](https://onesearch.library.nd.edu/permalink/f/1phik6l/ndu_aleph000623770).\n",
        "- Stephen Few, [\"Save the Pies for Dessert\"](www.perceptualedge.com/articles/08-21-07.pdf) *Perceptual Edge* (21 August 2007)\n",
        "- Steve Fenton, [\"Pie Charts are Bad\"](https://www.stevefenton.co.uk/2009/04/pie-charts-are-bad/) *personal blog* (17 April 2009)\n",
        "- Dipanjan Sarkar, [\"A Comprehensive  Guide to the Grammar of Graphics for Effective Visualization of Multi-dimensional Data\"](https://towardsdatascience.com/a-comprehensive-guide-to-the-grammar-of-graphics-for-effective-visualization-of-multi-dimensional-1f92b4ed4149) *Towards Data Science* (12 September 2018)\n",
        "\n",
        "197. But, as Google's design lead Manuel Lima has noted, humans love pie charts.\n",
        "- Manuel Lima, [\"Why humans love pie charts: An historical and evolutionary perspective\"](https://blog.usejournal.com/why-humans-love-pie-charts-9cd346000bdc) *Noteworthy: The Journal Blog* (23 July 2018)\n",
        "\n",
        "198. So we'll cover them.\n",
        "\n",
        "199. Sample code for a basic pie chart:"
      ],
      "metadata": {
        "id": "jhRe20cH9uSu"
      }
    },
    {
      "cell_type": "code",
      "source": [
        "# import matplotlib\n",
        "import matplotlib.pyplot as plt\n",
        "\n",
        "# set slice labels\n",
        "labels = 'Frogs', 'Hogs', 'Dogs', 'Logs'\n",
        "\n",
        "# set slice sizes \n",
        "sizes = [15, 30, 45, 10]\n",
        "\n",
        "# create figure and axes\n",
        "fig1, ax1 = plt.subplots()\n",
        "\n",
        "# create pie chart \n",
        "ax1.pie(sizes, labels=labels)\n",
        "\n",
        "# set equal aspect ratio to ensure pie is a circle\n",
        "ax1.axis('equal')\n",
        "\n",
        "# show plot\n",
        "plt.show()"
      ],
      "metadata": {
        "id": "SqHy6w449vtP"
      },
      "execution_count": null,
      "outputs": []
    },
    {
      "cell_type": "markdown",
      "source": [
        "200. We can customize this pie chart to auto-label each slice's percentage."
      ],
      "metadata": {
        "id": "oTZOLzon9w84"
      }
    },
    {
      "cell_type": "code",
      "source": [
        "# create pie chart with percent formatting\n",
        "ax1.pie(sizes, labels=labels, autopct='%1.1f%%')"
      ],
      "metadata": {
        "id": "u10Gui_J9x5o"
      },
      "execution_count": null,
      "outputs": []
    },
    {
      "cell_type": "markdown",
      "source": [
        "201. The default start angle is `0`, which we can also modify."
      ],
      "metadata": {
        "id": "cMTv1zWF9zEI"
      }
    },
    {
      "cell_type": "code",
      "source": [
        "# create pie chart with percent formatting and start angle\n",
        "ax1.pie(sizes, labels=labels, autopct='%1.1f%%', startangle=90)"
      ],
      "metadata": {
        "id": "odC3Zxc_9z-r"
      },
      "execution_count": null,
      "outputs": []
    },
    {
      "cell_type": "markdown",
      "source": [
        "202. We can also add a drop shadow to our pie chart.\n"
      ],
      "metadata": {
        "id": "Z-BTWcCe90pv"
      }
    },
    {
      "cell_type": "code",
      "source": [
        "# create pie chart with percent formatting, start angle, and drop shadow\n",
        "ax1.pie(sizes, labels=labels, autopct='%1.1f%%', startangle=90, shadow=True)"
      ],
      "metadata": {
        "id": "g2rDCR6991hh"
      },
      "execution_count": null,
      "outputs": []
    },
    {
      "cell_type": "markdown",
      "source": [
        "203. We can also \"explode\" or offset one of the slices.\n"
      ],
      "metadata": {
        "id": "5nEvuPo892lB"
      }
    },
    {
      "cell_type": "code",
      "source": [
        "# import matplotlib\n",
        "import matplotlib.pyplot as plt\n",
        "\n",
        "# set slice labels\n",
        "labels = 'Frogs', 'Hogs', 'Dogs', 'Logs'\n",
        "\n",
        "# set slice sizes \n",
        "sizes = [15, 30, 45, 10]\n",
        "\n",
        "# explode or offset only the 2nd slice (i.e. 'Hogs')\n",
        "explode = (0, 0.1, 0, 0)\n",
        "\n",
        "# create figure and axes\n",
        "fig1, ax1 = plt.subplots()\n",
        "\n",
        "# create pie chart with percent formatting, start angle, and drop shadow\n",
        "ax1.pie(sizes, labels=labels, autopct='%1.1f%%', startangle=90, shadow=True, explode=explode)\n",
        "\n",
        "# set equal aspect ratio to ensure pie is a circle\n",
        "ax1.axis('equal')\n",
        "\n",
        "# show plot\n",
        "plt.show()"
      ],
      "metadata": {
        "id": "47S6sQKE937i"
      },
      "execution_count": null,
      "outputs": []
    },
    {
      "cell_type": "markdown",
      "source": [
        "### Additional Resources\n",
        "\n",
        "204. For more on pie charts:\n",
        "- [`matplotlib`, Basic pie chart](https://matplotlib.org/gallery/pie_and_polar_charts/pie_features.html)\n",
        "- [`matplotlib.pyplot.pie`](https://matplotlib.org/3.3.3/api/_as_gen/matplotlib.pyplot.pie.html)\n",
        "- [`matplotlib` Gallery, Pie and polar charts](https://matplotlib.org/gallery/index.html#pie-and-polar-charts)"
      ],
      "metadata": {
        "id": "KPoswBKf95BJ"
      }
    },
    {
      "cell_type": "markdown",
      "source": [
        "## Boxplots\n",
        "\n",
        "205. Used to represent descriptive statistics, a box plot depicts groups of numerical data as quartiles.\n",
        "\n",
        "206. Box plots are sometimes called box-and-whisker plots because they can include lines extending from the boxes (*whiskers*) to show variability outside upper and lower quartiles.\n",
        "\n",
        "207. Box plots are a standardized way of displaying summary statistics for a dataset.\n",
        "\n",
        "208. Statistics represented in a box plot include:\n",
        "- ***minimum***: lowest data point (excluding outliers); 0th percentile or Q<sub>0</sub>\n",
        "- ***maximum***: highest data point (excluding outliers); 100th percentile or Q<sub>4</sub>\n",
        "- ***median***: middle value in the dataset; 50th percentile or Q<sub>2</sub>\n",
        "- ***first quartile***: also known as the lower quartile; median of the lower half of the dataset; 25th percentile or Q<sub>1</sub>\n",
        "- ***third quartile***: also known as the umper quartile; median of the upper half of the dataset; 75th percentile or Q<sub>3</sub>\n",
        "\n",
        "209. In the process of calculating these summary statistics, a sixth value is calculated, the interquartile range.\n",
        "\n",
        "210. ***Interquartile range*** is the distance between upper and lower quartiles.\n",
        "\n",
        "211. To draw a basic box plot using `matplotlib`:"
      ],
      "metadata": {
        "id": "htm3WYyy96ty"
      }
    },
    {
      "cell_type": "code",
      "source": [
        "# import statements\n",
        "import matplotlib.pyplot as plt\n",
        "import numpy as np\n",
        "from matplotlib.patches import Polygon\n",
        "\n",
        "# fix random state for reproducibility\n",
        "np.random.seed(19680801)\n",
        "\n",
        "# create sample data\n",
        "spread = np.random.rand(50) * 100\n",
        "center = np.ones(25) * 50\n",
        "flier_high = np.random.rand(10) * 100 + 100\n",
        "flier_low = np.random.rand(10) * -100\n",
        "data = np.concatenate((spread, center, flier_high, flier_low))\n",
        "\n",
        "# create figure and axes\n",
        "fig, axs = plt.subplots()\n",
        "\n",
        "# draw basic boxplot\n",
        "axs.boxplot(data)\n",
        "axs.set_title('Basic Plot')\n",
        "\n",
        "# show plot\n",
        "plt.show()"
      ],
      "metadata": {
        "id": "oAvz8cry98bD"
      },
      "execution_count": null,
      "outputs": []
    },
    {
      "cell_type": "markdown",
      "source": [
        "212. We can modify this example to not show the outlier points and map only the quartile summary statistics:"
      ],
      "metadata": {
        "id": "XHObeFIY99cK"
      }
    },
    {
      "cell_type": "code",
      "source": [
        "# import statements\n",
        "import matplotlib.pyplot as plt\n",
        "import numpy as np\n",
        "from matplotlib.patches import Polygon\n",
        "\n",
        "# fix random state for reproducibility\n",
        "np.random.seed(19680801)\n",
        "\n",
        "# create sample data\n",
        "spread = np.random.rand(50) * 100\n",
        "center = np.ones(25) * 50\n",
        "flier_high = np.random.rand(10) * 100 + 100\n",
        "flier_low = np.random.rand(10) * -100\n",
        "data = np.concatenate((spread, center, flier_high, flier_low))\n",
        "\n",
        "# create figure and axes\n",
        "fig, axs = plt.subplots()\n",
        "\n",
        "# draw boxplot that will not show outlier points\n",
        "axs.boxplot(data, 0, '')\n",
        "axs.set_title('Box Plot Without Outlier Points')\n",
        "\n",
        "# show plot\n",
        "plt.show()"
      ],
      "metadata": {
        "id": "I3q5LFGb9-5E"
      },
      "execution_count": null,
      "outputs": []
    },
    {
      "cell_type": "markdown",
      "source": [
        "213. We can also generate a horizontal box plot.\n"
      ],
      "metadata": {
        "id": "XwOXH2zj9_3N"
      }
    },
    {
      "cell_type": "code",
      "source": [
        "# import statements\n",
        "import matplotlib.pyplot as plt\n",
        "import numpy as np\n",
        "from matplotlib.patches import Polygon\n",
        "\n",
        "# fix random state for reproducibility\n",
        "np.random.seed(19680801)\n",
        "\n",
        "# create sample data\n",
        "spread = np.random.rand(50) * 100\n",
        "center = np.ones(25) * 50\n",
        "flier_high = np.random.rand(10) * 100 + 100\n",
        "flier_low = np.random.rand(10) * -100\n",
        "data = np.concatenate((spread, center, flier_high, flier_low))\n",
        "\n",
        "# create figure and axes\n",
        "fig, axs = plt.subplots()\n",
        "\n",
        "# draw horizontal boxplot\n",
        "axs.boxplot(data, 0, 'rs', 0)\n",
        "axs.set_title('Horizontal Box Plot')\n",
        "\n",
        "# show plot\n",
        "plt.show()"
      ],
      "metadata": {
        "id": "ZuVNfRbE-BPy"
      },
      "execution_count": null,
      "outputs": []
    },
    {
      "cell_type": "markdown",
      "source": [
        "214. We can also change the whisker length for our box plot:"
      ],
      "metadata": {
        "id": "uleonFtJ-CZI"
      }
    },
    {
      "cell_type": "code",
      "source": [
        "# import statements\n",
        "import matplotlib.pyplot as plt\n",
        "import numpy as np\n",
        "from matplotlib.patches import Polygon\n",
        "\n",
        "# fix random state for reproducibility\n",
        "np.random.seed(19680801)\n",
        "\n",
        "# create sample data\n",
        "spread = np.random.rand(50) * 100\n",
        "center = np.ones(25) * 50\n",
        "flier_high = np.random.rand(10) * 100 + 100\n",
        "flier_low = np.random.rand(10) * -100\n",
        "data = np.concatenate((spread, center, flier_high, flier_low))\n",
        "\n",
        "# create figure and axes\n",
        "fig, axs = plt.subplots()\n",
        "\n",
        "# draw boxplot with modified whisker length\n",
        "axs.boxplot(data, 0, 'rs', 0, 0.75)\n",
        "axs.set_title('Box Plot With Modified Whisker Length')\n",
        "\n",
        "# show plot\n",
        "plt.show()"
      ],
      "metadata": {
        "id": "UdAvL1cA-D58"
      },
      "execution_count": null,
      "outputs": []
    },
    {
      "cell_type": "markdown",
      "source": [
        "215. We can also set a custom fill color for our boxes:\n"
      ],
      "metadata": {
        "id": "AebOtDQc-Eo9"
      }
    },
    {
      "cell_type": "code",
      "source": [
        "# import statements\n",
        "import matplotlib.pyplot as plt\n",
        "import numpy as np\n",
        "\n",
        "# set random state\n",
        "np.random.seed(19680801)\n",
        "\n",
        "# load test data\n",
        "all_data = [np.random.normal(0, std, size=100) for std in range(1, 4)]\n",
        "\n",
        "# set labels\n",
        "labels = ['x1', 'x2', 'x3']\n",
        "\n",
        "# create figure and axes\n",
        "fig, (ax1, ax2) = plt.subplots(nrows=1, ncols=2, figsize=(9, 4))\n",
        "\n",
        "# rectangular box plot\n",
        "bplot1 = ax1.boxplot(all_data,\n",
        "                     vert=True,  # vertical box alignment\n",
        "                     patch_artist=True,  # fill with color\n",
        "                     labels=labels)  # will be used to label x-ticks\n",
        "ax1.set_title('Rectangular box plot')\n",
        "\n",
        "# notch shape box plot\n",
        "bplot2 = ax2.boxplot(all_data,\n",
        "                     notch=True,  # notch shape\n",
        "                     vert=True,  # vertical box alignment\n",
        "                     patch_artist=True,  # fill with color\n",
        "                     labels=labels)  # will be used to label x-ticks\n",
        "ax2.set_title('Notched box plot')\n",
        "\n",
        "# color assignments\n",
        "colors = ['pink', 'lightblue', 'lightgreen']\n",
        "for bplot in (bplot1, bplot2):\n",
        "    for patch, color in zip(bplot['boxes'], colors):\n",
        "        patch.set_facecolor(color)\n",
        "\n",
        "# add grid lines\n",
        "for ax in [ax1, ax2]:\n",
        "    ax.yaxis.grid(True)\n",
        "    ax.set_xlabel('Three separate samples')\n",
        "    ax.set_ylabel('Observed values')\n",
        "\n",
        "# show plot\n",
        "plt.show()"
      ],
      "metadata": {
        "id": "GpYUr0Cd-XSc"
      },
      "execution_count": null,
      "outputs": []
    },
    {
      "cell_type": "markdown",
      "source": [
        "### Additional Resources\n",
        "\n",
        "216. For more on box plots:\n",
        "- [`matplotlib`, Boxplots](https://matplotlib.org/gallery/statistics/boxplot_demo.html#sphx-glr-gallery-statistics-boxplot-demo-py)\n",
        "- [`matplotlib`, Box plots with custom fill colors](https://matplotlib.org/gallery/statistics/boxplot_color.html#sphx-glr-gallery-statistics-boxplot-color-py)\n",
        "- [`matplotlib` Gallery, Statistics](https://matplotlib.org/gallery/index.html#statistics)\n",
        "- [`matplotlib.pyplot.boxplot`](https://matplotlib.org/3.3.3/api/_as_gen/matplotlib.pyplot.boxplot.html)"
      ],
      "metadata": {
        "id": "SOu4XLwp-avo"
      }
    },
    {
      "cell_type": "markdown",
      "source": [
        "## Tables\n",
        "\n",
        "217. We can use the `.table()` function to create a stand-alone table or a table that would accompany another type of graphical plot.\n",
        "\n",
        "218. In `matplotlib`, the `.table()` function generates a table plot.\n",
        "\n",
        "219. This means the table is displaying as a static 2D visualization, just like other `matplotlib` plots.\n",
        "\n",
        "220. To create a stacked bar chart and table with disaster data over a 100 year period:"
      ],
      "metadata": {
        "id": "_KxJoWos-cJd"
      }
    },
    {
      "cell_type": "code",
      "source": [
        "# import statements\n",
        "import numpy as np\n",
        "import matplotlib.pyplot as plt\n",
        "\n",
        "# set data\n",
        "data = [[ 66386, 174296,  75131, 577908,  32015],\n",
        "        [ 58230, 381139,  78045,  99308, 160454],\n",
        "        [ 89135,  80552, 152558, 497981, 603535],\n",
        "        [ 78415,  81858, 150656, 193263,  69638],\n",
        "        [139361, 331509, 343164, 781380,  52269]]\n",
        "\n",
        "# set column labels\n",
        "columns = ('Freeze', 'Wind', 'Flood', 'Quake', 'Hail')\n",
        "\n",
        "# set row labels\n",
        "rows = ['%d year' % x for x in (100, 50, 20, 10, 5)]\n",
        "\n",
        "# set value increments\n",
        "values = np.arange(0, 2500, 500)\n",
        "value_increment = 1000\n",
        "\n",
        "# set color shade\n",
        "colors = plt.cm.BuPu(np.linspace(0, 0.5, len(rows)))\n",
        "n_rows = len(data)\n",
        "\n",
        "# set bar width\n",
        "index = np.arange(len(columns)) + 0.3\n",
        "bar_width = 0.4\n",
        "\n",
        "# initialize the vertical-offset for the stacked bar chart.\n",
        "y_offset = np.zeros(len(columns))\n",
        "\n",
        "# plot bars and create text labels for the table\n",
        "cell_text = []\n",
        "for row in range(n_rows):\n",
        "    plt.bar(index, data[row], bar_width, bottom=y_offset, color=colors[row])\n",
        "    y_offset = y_offset + data[row]\n",
        "    cell_text.append(['%1.1f' % (x / 1000.0) for x in y_offset])\n",
        "\n",
        "# reverse colors and text labels to display the last value at the top.\n",
        "colors = colors[::-1]\n",
        "cell_text.reverse()\n",
        "\n",
        "# add table at the bottom of the axes\n",
        "the_table = plt.table(cellText=cell_text,\n",
        "                      rowLabels=rows,\n",
        "                      rowColours=colors,\n",
        "                      colLabels=columns,\n",
        "                      loc='bottom')\n",
        "\n",
        "# adjust plot layout to accomodate table\n",
        "plt.subplots_adjust(left=0.2, bottom=0.2)\n",
        "\n",
        "# assign lbels and titles\n",
        "plt.ylabel(\"Loss in ${0}'s\".format(value_increment))\n",
        "plt.yticks(values * value_increment, ['%d' % val for val in values])\n",
        "plt.xticks([])\n",
        "plt.title('Loss by Disaster')\n",
        "\n",
        "# show plot\n",
        "plt.show()"
      ],
      "metadata": {
        "id": "qOqgmvcx-fC8"
      },
      "execution_count": null,
      "outputs": []
    },
    {
      "cell_type": "markdown",
      "source": [
        "220. To show just the table portion from the previous example:\n"
      ],
      "metadata": {
        "id": "u2Fo6uMn-f3_"
      }
    },
    {
      "cell_type": "code",
      "source": [
        "# import statements\n",
        "import numpy as np\n",
        "import matplotlib.pyplot as plt\n",
        "\n",
        "# set data\n",
        "data = [[ 66386, 174296,  75131, 577908,  32015],\n",
        "        [ 58230, 381139,  78045,  99308, 160454],\n",
        "        [ 89135,  80552, 152558, 497981, 603535],\n",
        "        [ 78415,  81858, 150656, 193263,  69638],\n",
        "        [139361, 331509, 343164, 781380,  52269]]\n",
        "\n",
        "# set column labels\n",
        "column_headers = ('Freeze', 'Wind', 'Flood', 'Quake', 'Hail')\n",
        "\n",
        "# set row labels\n",
        "row_headers = ['%d year' % x for x in (100, 50, 20, 10, 5)]\n",
        "\n",
        "# format table data as non-numeric text\n",
        "cell_text = []\n",
        "for row in data:\n",
        "    cell_text.append([f'{x/1000:1.1f}' for x in row])\n",
        "    \n",
        "# set colors for row and column labels\n",
        "rcolors = plt.cm.BuPu(np.full(len(row_headers), 0.1))\n",
        "ccolors = plt.cm.BuPu(np.full(len(column_headers), 0.1))\n",
        "\n",
        "# create the figure and axes with customzied visual elements\n",
        "plt.figure(linewidth=2)\n",
        "\n",
        "# add table at the bottom of the axes\n",
        "the_table = plt.table(cellText=cell_text,\n",
        "                      rowLabels=row_headers,\n",
        "                      rowColours=rcolors,\n",
        "                      rowLoc='right',\n",
        "                      colColours=ccolors,\n",
        "                      colLabels=column_headers,\n",
        "                      loc='center')\n",
        "\n",
        "# adjust table scale\n",
        "the_table.scale(1, 1.5)\n",
        "\n",
        "# hide plot axis\n",
        "ax = plt.gca()\n",
        "ax.get_xaxis().set_visible(False)\n",
        "ax.get_yaxis().set_visible(False)\n",
        "\n",
        "# hide axis border\n",
        "plt.box(on=None)\n",
        "\n",
        "# set title\n",
        "plt.suptitle('Loss by Disaster')\n",
        "\n",
        "# set footer\n",
        "plt.figtext(0.95, 0.05, '30 December 2020', horizontalalignment='right', size=6, weight='light')\n",
        "\n",
        "# center title on figure, not hidden axis\n",
        "plt.draw()\n",
        "\n",
        "# show plot\n",
        "plt.show()"
      ],
      "metadata": {
        "id": "qJHRs_UP-ihT"
      },
      "execution_count": null,
      "outputs": []
    },
    {
      "cell_type": "markdown",
      "source": [
        "### Additional Resources\n",
        "\n",
        "221. For more on tables in `matplotlib`:\n",
        "- [`matplotlib`, Table Demo](https://matplotlib.org/gallery/misc/table_demo.html#sphx-glr-gallery-misc-table-demo-py)\n",
        "- [`matplotlib.pyplot.table`](https://matplotlib.org/3.3.3/api/_as_gen/matplotlib.pyplot.table.html)\n",
        "- Michael Demastrie, [\"Simple Little Tables with Matplotlib\"](https://towardsdatascience.com/simple-little-tables-with-matplotlib-9780ef5d0bc4) *Towards Data Science* (18 July 2020).\n"
      ],
      "metadata": {
        "id": "KU0oFquJ-jyP"
      }
    },
    {
      "cell_type": "markdown",
      "source": [
        "## Other Types of Plots\n",
        "\n",
        "222. `matplotlib`  supports a wide range of plot types and customizations not covered here.\n",
        "\n",
        "223. Other types of plots include:\n",
        "- Filled polygon\n",
        "- Stackplots and streamgraphs\n",
        "- Image plots\n",
        "- Density plots\n",
        "- Contour plots\n",
        "- Mesh plots\n",
        "- Streamplots\n",
        "- Geographic projections\n",
        "- Violin plots\n",
        "- Polar charts\n",
        "- Custom object plots\n",
        "\n",
        "224. That's not even getting into 3D plotting in `matplotlib`, or plotting geographic data.\n",
        "\n",
        "225. A good place to start is the [`matplotlib` Gallery](https://matplotlib.org/gallery/), which includes sample code for different plot types.\n",
        "\n",
        "226. [\"Sample plots in matplotlib\"](https://matplotlib.org/tutorials/introductory/sample_plots.html) is another starting place.\n"
      ],
      "metadata": {
        "id": "93jz3sGR-lKA"
      }
    },
    {
      "cell_type": "markdown",
      "source": [
        "###  For 3D Plotting\n",
        "\n",
        "227. 3D plotting resources:\n",
        "- [Jake VanderPlas, \"Three-Dimensional Plotting in Matplotlib\" from *Python Data Science Handbook*](https://jakevdp.github.io/PythonDataScienceHandbook/04.12-three-dimensional-plotting.html)\n",
        "- [`matplotlib`, 3D surface](https://matplotlib.org/gallery/mplot3d/surface3d.html)\n",
        "- [`matplotlib`, \"The mplot3d Toolkit\"](https://matplotlib.org/tutorials/toolkits/mplot3d.html#toolkit-mplot3d-tutorial)\n",
        "- [`matplotlib` gallery, \"3D plotting\"](https://matplotlib.org/gallery/index.html#mplot3d-examples-index)"
      ],
      "metadata": {
        "id": "xgMHzjTO-mQD"
      }
    },
    {
      "cell_type": "markdown",
      "source": [
        "### Geospatial Data\n",
        "\n",
        "228. Up to this point, we have been working with data plotted on a 2D cartesian coordinate system, with `x` and `y` axes.\n",
        "\n",
        "229. For our purposes, it's most useful to think of maps in the same way--as data plotted on a coordinate system.\n",
        "\n",
        "230. For geospatial data, that coordinate system is typically some type of latitude or longitude based projection.\n",
        "\n",
        "231. The data to be plotted includes explicit location information (rather than a numerical or categorical field that can be mapped to an axis).\n",
        "\n",
        "232. Upcoming labs will focus on plotting data stored in a Pandas `DataFrame` and building interactive visualizations.\n",
        "\n",
        "233. We'll go into more detail on mapping in those labs.\n",
        "\n",
        "234. A few resources we'll return to in those labs:\n",
        "\n",
        "**Free online geocoding services:**\n",
        "- [LocalFocus data journalism batch geocoder](https://geocode.localfocus.nl/)\n",
        "- [Texas A&M Geocoding Services](https://geoservices.tamu.edu/Services/Geocode/)\n",
        "  * *Requires creating a free account*\n",
        "  \n",
        "**Installing and Configuring `geopandas`**:\n",
        "- Anaconda\n",
        "  * Tanish Gupta, \"[Fastest Way to Intsall Geopandas in Jupyter Notebooks](https://medium.com/analytics-vidhya/fastest-way-to-install-geopandas-in-jupyter-notebook-on-windows-8f734e11fa2b)\" *Analytics Vidhya* (6 December 2020)\n",
        "  * Anaconda, \"[conda-forge packages, geopandas](https://anaconda.org/conda-forge/geopandas)\" *Anaconda documentation*\n",
        "  * GeoPandas, \"[Installation](https://geopandas.org/getting_started/install.html)\" *GeoPandas documentation*\n",
        "- Google CoLab\n",
        "  * Abdishakur Hassan, Jupyter notebook on using `geopandas` in Google CoLab, from \"[Geographic data science tutorials with Python](https://github.com/shakasom/GDS)\" *GitHub repository*\n",
        "    * [Google CoLab](https://colab.research.google.com/github/shakasom/GDS/blob/master/Part1%20-%20Introduction.ipynb)\n",
        "    * [GitHub](https://github.com/shakasom/GDS/blob/master/Part1%20-%20Introduction.ipynb)\n",
        "    \n",
        "**Getting Started With GeoPandas**:\n",
        "- Jonathan Soma, \"[Mapping with geopandas](https://jonathansoma.com/lede/foundations-2017/classes/geopandas/mapping-with-geopandas/)\" from 2017 \"[Foundations of Computing](https://jonathansoma.com/lede/foundations-2017/)\" course, Columbia Graduate School of Journalism\n",
        "- CoderzColumn, \"[Plotting Static Maps with geopandas](https://coderzcolumn.com/tutorials/data-science/plotting-static-maps-with-geopandas-working-with-geospatial-data)\" *CoderzColumn* (11 March 2020)\n",
        "- GeoPandas, \"[Plotting with Geoplot and GeoPandas](https://geopandas.org/gallery/plotting_with_geoplot.html)\" *GeoPandas documentation*"
      ],
      "metadata": {
        "id": "R6U_QZ-_1sxV"
      }
    },
    {
      "cell_type": "markdown",
      "source": [
        "### For More on Text and Annotation\n",
        "\n",
        "235. A few of our examples used `matplotlib`'s annotation functionality.\n",
        "\n",
        "236. Annotation using `.text()` can highlight specific data points or draw attention to specific elements of a plot.\n",
        "\n",
        "237. For more on text and annotation:\n",
        "- [Jake VanderPlas, \"Text and Annotation\" from *Python Data Science Handbook*](https://jakevdp.github.io/PythonDataScienceHandbook/04.09-text-and-annotation.html)\n",
        "- [`matplotlib` gallery, \"Text, labels and annotations\"](https://matplotlib.org/gallery/index.html#text-labels-and-annotations)\n",
        "- [`matplotlib` Annotations](https://matplotlib.org/3.3.3/tutorials/text/annotations.html)\n",
        "- [`matplotlib.pyplot.annotate`](https://matplotlib.org/3.3.3/api/_as_gen/matplotlib.pyplot.annotate.html)"
      ],
      "metadata": {
        "id": "AFqbRSbi1unc"
      }
    },
    {
      "cell_type": "markdown",
      "source": [
        "# Lab Notebook Question 4\n",
        "\n",
        "Q4: Write code that generates at least 3 of the following plot types.\n",
        "- Figure with subplots\n",
        "- Scatterplot\n",
        "- Histogram\n",
        "- Bar chart (regular, horizontal, stacked, or grouped)\n",
        "- Pie chart\n",
        "- Boxplot\n",
        "- Table\n",
        "- Other\n",
        "\n",
        "Each of the three plots needs to include the following style elements (as appropriate).\n",
        "- Title\n",
        "- Axis labels\n",
        "- Tick marks\n",
        "- Tick labels\n",
        "- Line or marker style\n",
        "- Line or marker color\n",
        "- Legend\n",
        "\n",
        "Include code + comments."
      ],
      "metadata": {
        "id": "G-1IpICo2s6j"
      }
    },
    {
      "cell_type": "markdown",
      "source": [
        "# Saving or Exporting Plots\n",
        "\n",
        "238. Up to this point, all of our examples have ended with the line `plt.show()`.\n",
        "\n",
        "239. But there are many situations in which you might want or need to save a plot as a static image file.\n",
        "\n",
        "240. We can do this using `plt.savefig()`.\n",
        "\n",
        "241. `matplotlib` supports the following image file types:\n",
        "- `.png`: portable network graphics; raster-graphics file format that supports lossless data compression\n",
        "- `.pdf`: portable document format; proprietary Adobe file format; fixed-layout flat document\n",
        "- `.ps`: postscript; page description language developed by Adobe\n",
        "- `.eps`: encapsulated postscript; postscript document formatted as a graphics file format\n",
        "- `.svg`: scalable vector graphics; vector based image based on XML\n",
        "\n",
        "242. The basic syntax for saving a figure as an image file:"
      ],
      "metadata": {
        "id": "eXS6Dp9g2upC"
      }
    },
    {
      "cell_type": "code",
      "source": [
        "# basic syntax\n",
        "plt.savefig('file_name.file_type')\n",
        "\n",
        "# example for a png file\n",
        "plt.savefig('png_sample.png')\n",
        "\n",
        "# example for an svg file\n",
        "plt.savefig('svg_sample.svg')"
      ],
      "metadata": {
        "id": "fbNQFdyG2y8K"
      },
      "execution_count": null,
      "outputs": []
    },
    {
      "cell_type": "markdown",
      "source": [
        "243. We can customize aspects of the saved image using other arguments in combination with `.savefig()`.\n",
        "\n",
        "244. `dpi` can set the resolution to a numeric value."
      ],
      "metadata": {
        "id": "F-fRTtxT20Cy"
      }
    },
    {
      "cell_type": "code",
      "source": [
        "plt.savefig('svg_sample.svg', dpi=300)"
      ],
      "metadata": {
        "id": "pcCfK6ZH203M"
      },
      "execution_count": null,
      "outputs": []
    },
    {
      "cell_type": "markdown",
      "source": [
        "245. Setting `transparent` to `True` makes the image background transparent for file types that support transparent background."
      ],
      "metadata": {
        "id": "O0i6F8lX210J"
      }
    },
    {
      "cell_type": "code",
      "source": [
        "plt.savefig('svg_sample.svg', transparent=True)"
      ],
      "metadata": {
        "id": "QxlL1ans22oI"
      },
      "execution_count": null,
      "outputs": []
    },
    {
      "cell_type": "markdown",
      "source": [
        "246. `bbox_inches` will alter the size of the bounding box or whitespace around the output image.\n",
        "\n",
        "247. If no bounding box is needed, `bbox_inches='tight'` is ideal.\n",
        "\n",
        "## Additional Resources\n",
        "\n",
        "248. For more on customization options when saving a figure as an image:\n",
        "- [`matplotlib.pyplot.savefig`](https://matplotlib.org/3.3.3/api/_as_gen/matplotlib.pyplot.savefig.html)"
      ],
      "metadata": {
        "id": "9mNaFYIp24AS"
      }
    },
    {
      "cell_type": "markdown",
      "source": [
        "## Lab Notebook Question 5\n",
        "\n",
        "Q5: Add lines of code for each of the plots generated for Q4 to save the plot as an image file."
      ],
      "metadata": {
        "id": "eiUZqrhA25KT"
      }
    },
    {
      "cell_type": "markdown",
      "source": [
        "# Best Practices for Data Visualization\n",
        "\n",
        "249. By this point, your brain is probably overwhelmed by the nuances of `matplotlib` syntax.\n",
        "\n",
        "250. Let's take a step back and think through ***why*** we want or need to visualize data, or what we hope to accomplish through visualizing data.\n",
        "\n",
        "251. Head on over to the [Data Visualization Considerations or Best Practices](https://github.com/kwaldenphd/matplotlib-intro/blob/main/data-viz-intro.md) page to learn more about things like...\n",
        "  * Choosing a chart type\n",
        "  * Working with visual cues\n",
        "  * Essential visualization elements"
      ],
      "metadata": {
        "id": "QYmjlYmy26SV"
      }
    },
    {
      "cell_type": "markdown",
      "source": [
        "# `OO` vs. `pyplot`\n",
        "\n",
        "252. If you start exploring `matplotlib` documentation or other internet resources/tutorials, you will likely run into `matplotlib` syntax that is different than what's presented here.\n",
        "\n",
        "253. That is because Matplotlib has two interfaces. \n",
        "\n",
        "254. The first is an `object-oriented (OO) interface`. \n",
        "\n",
        "255. When working in the `OO` interface, we utilize an instance of `axes.Axes` to render visualizations on an instance of `figure.Figure`.\n",
        "\n",
        "256. The second is based on `MATLAB` and uses a state-based interface. \n",
        "\n",
        "257. This second interface is encapsulated in the `pyplot` module. \n",
        "\n",
        "258. `pyplot` is a collection of functions that make matplotlib work like `MATLAB`. \n",
        "\n",
        "259. At first glance, `pyplot` can seem like a much easier alternative to the object-oriented interface.\n",
        "\n",
        "260. For example, the following code generates a line plot using `pyplot` syntax:"
      ],
      "metadata": {
        "id": "eXJVIobc283b"
      }
    },
    {
      "cell_type": "code",
      "source": [
        "import matplotlib.pyplot as plt\n",
        "\n",
        "plt.plot([1, 2, 3, 4])\n",
        "\n",
        "plt.ylabel('some numbers')\n",
        "\n",
        "plt.show()"
      ],
      "metadata": {
        "id": "TEB59ZBa2-EW"
      },
      "execution_count": null,
      "outputs": []
    },
    {
      "cell_type": "markdown",
      "source": [
        "260. No figure, no axis- what magic!\n",
        "\n",
        "261. Except...`pyplot` doesn't scale with multiple plots or plots  that require significant customization.\n",
        "\n",
        "262. The `pyplot` interface hs much less flexible than the `OO` interface.\n",
        "\n",
        "263. Plus, `matplotlib`'s own documentation recommends that you use the `OO` interface.\n",
        "\n",
        "264. For more on the differences between these two interfaces and how to translate sample code across interfaces:\n",
        "- [`matplotlib`, \"Pyplot tutorial\"](https://matplotlib.org/3.3.3/tutorials/introductory/pyplot.html)\n",
        "- [`matplotlib`, \"The Lifecycle of a Plot\"](https://matplotlib.org/3.3.3/tutorials/introductory/lifecycle.html)\n",
        "- Tejas Sanap, [\"Pyplot vs Object Oriented Interface\"](https://matplotlib.org/matplotblog/posts/pyplot-vs-object-oriented-interface/) *matplotblog* (27 May 2020)"
      ],
      "metadata": {
        "id": "9O25tsLw2_7R"
      }
    },
    {
      "cell_type": "markdown",
      "source": [
        "# What's Next\n",
        "\n",
        "265. In the next lab, we'll cover how to put `matplotlib` in conversation with `pandas` to plot data stored in a `DataFrame`.\n",
        "\n",
        "266. We'll also look at the `seaborn` library for creating graphics.\n",
        "\n",
        "267. We will also explore how we can use the `plotly` library for creating interactive data visualizations. \n",
        "\n",
        "268. Stay tuned, and fear not--this thorough intro to `matplotlib` will help immensely when adding more complexity or additional possibilities to your data visualization toolkit."
      ],
      "metadata": {
        "id": "dkgFfvnd3BHY"
      }
    },
    {
      "cell_type": "markdown",
      "source": [
        "# Lab Notebook Questions\n",
        "\n",
        "[Link to access lab notebook template (Jupyter Notebook)](https://drive.google.com/file/d/1mKVWgMdmdQ6H7ZF4lpAOVM16tTQRX_gO/view?usp=sharing)\n",
        "\n",
        "Q1: Describe in your own words the core components of a matplotlib figure. What is the general sequence of steps involved in generating a matplotlib figure?\n",
        "\n",
        "Q2: Describe the different types of colormaps in your own words. What are the parameters or factors to consider when choosing a colormap?\n",
        "\n",
        "Q3: Create your own matplotlib figure and include the following style elements. Include code + comments.\n",
        "- Title\n",
        "- Axis labels\n",
        "- Tick marks\n",
        "- Tick labels\n",
        "- Line or marker style\n",
        "- Line or marker color\n",
        "- Legend\n",
        "\n",
        "Q4: Write code that generates at least 3 of the following plot types.\n",
        "- Figure with subplots\n",
        "- Scatterplot\n",
        "- Histogram\n",
        "- Bar chart (regular, horizontal, stacked, or grouped)\n",
        "- Pie chart\n",
        "- Boxplot\n",
        "- Table\n",
        "- Other\n",
        "\n",
        "Each of the three plots needs to include the following style elements (as appropriate).\n",
        "- Title\n",
        "- Axis labels\n",
        "- Tick marks\n",
        "- Tick labels\n",
        "- Line or marker style\n",
        "- Line or marker color\n",
        "- Legend\n",
        "\n",
        "Include code + comments.\n",
        "\n",
        "Q5: Add lines of code for each of the plots generated for Q4 to save the plot as an image file."
      ],
      "metadata": {
        "id": "PbP-mm6l3CZF"
      }
    }
  ],
  "metadata": {
    "kernelspec": {
      "display_name": "Python 3",
      "language": "python",
      "name": "python3"
    },
    "language_info": {
      "codemirror_mode": {
        "name": "ipython",
        "version": 3
      },
      "file_extension": ".py",
      "mimetype": "text/x-python",
      "name": "python",
      "nbconvert_exporter": "python",
      "pygments_lexer": "ipython3",
      "version": "3.8.5"
    },
    "colab": {
      "name": "python-matplotlib-intro-procedure.ipynb",
      "provenance": [],
      "toc_visible": true,
      "include_colab_link": true
    }
  },
  "nbformat": 4,
  "nbformat_minor": 0
}