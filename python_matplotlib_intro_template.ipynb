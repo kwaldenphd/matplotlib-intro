{
  "cells": [
    {
      "cell_type": "markdown",
      "metadata": {
        "id": "view-in-github",
        "colab_type": "text"
      },
      "source": [
        "<a href=\"https://colab.research.google.com/github/kwaldenphd/matplotlib-intro/blob/main/python_matplotlib_intro_template.ipynb\" target=\"_parent\"><img src=\"https://colab.research.google.com/assets/colab-badge.svg\" alt=\"Open In Colab\"/></a>"
      ]
    },
    {
      "cell_type": "markdown",
      "metadata": {
        "id": "QGSSaIUy3Osj"
      },
      "source": [
        "# Getting Started With Matplotlib\n",
        "\n",
        "Student Name: **Enter Your Name Here (Double click to edit)**\n",
        "<br>\n",
        "Net ID: **Enter Your NetID Here (Double click to edit)**\n",
        "<br>"
      ]
    },
    {
      "cell_type": "markdown",
      "source": [
        "## Lab Notebook Questions"
      ],
      "metadata": {
        "id": "ket9HwpT3ag-"
      }
    },
    {
      "cell_type": "markdown",
      "metadata": {
        "id": "8XmQni-C3Osm"
      },
      "source": [
        "### **Q1: Describe in your own words the core components of a matplotlib figure. What is the general sequence of steps involved in generating a matplotlib figure?**"
      ]
    },
    {
      "cell_type": "markdown",
      "metadata": {
        "id": "VEV1eGO63Osn"
      },
      "source": [
        "**AnswerQ1**: Your answer here (double click to edit)"
      ]
    },
    {
      "cell_type": "code",
      "execution_count": null,
      "metadata": {
        "id": "jj2h8Wl03Osp"
      },
      "outputs": [],
      "source": [
        "# your codes here for Q1 (if needed)"
      ]
    },
    {
      "cell_type": "markdown",
      "metadata": {
        "id": "C3BoA-2y3Osr"
      },
      "source": [
        "### **Q2: Describe the different types of colormaps in your own words. What are the parameters or factors to consider when choosing a colormap?**"
      ]
    },
    {
      "cell_type": "markdown",
      "metadata": {
        "id": "2VLBtnnK3Ost"
      },
      "source": [
        "**AnswerQ2:** Your answer here (double click to edit)"
      ]
    },
    {
      "cell_type": "code",
      "execution_count": null,
      "metadata": {
        "id": "B4j03AXr3Ost"
      },
      "outputs": [],
      "source": [
        "# your codes here for Q2 (if needed)"
      ]
    },
    {
      "cell_type": "markdown",
      "metadata": {
        "id": "sz3AxbTg3Osu"
      },
      "source": [
        "### <b>Q3: Create your own matplotlib figure and include the following style elements. Include code + comments:\n",
        "- Title\n",
        "- Axis labels\n",
        "- Tick marks\n",
        "- Tick labels\n",
        "- Line or marker style\n",
        "- Line or marker color\n",
        "- Legend</b>"
      ]
    },
    {
      "cell_type": "markdown",
      "metadata": {
        "id": "Q0-nA60i3Osv"
      },
      "source": [
        "**AnswerQ3:** Your answer here (double click to edit)"
      ]
    },
    {
      "cell_type": "code",
      "execution_count": null,
      "metadata": {
        "id": "3BcDHyQ53Osw"
      },
      "outputs": [],
      "source": [
        "# your codes here for Q3 (if needed)"
      ]
    },
    {
      "cell_type": "markdown",
      "metadata": {
        "id": "kh0j5-zw3Osx"
      },
      "source": [
        "### <b>Q4: Write code that generates at least 3 of the following plot types.\n",
        "- Figure with subplots\n",
        "- Scatterplot\n",
        "- Histogram\n",
        "- Bar chart (regular, horizontal, stacked, or grouped)\n",
        "- Pie chart\n",
        "- Boxplot\n",
        "- Table\n",
        "- Other\n",
        "    \n",
        "Each of the three plots needs to include the following style elements (as appropriate):\n",
        "- Title\n",
        "- Axis labels\n",
        "- Tick marks\n",
        "- Tick labels\n",
        "- Line or marker style\n",
        "- Line or marker color\n",
        "- Legend\n",
        "\n",
        "Include code + comments.</b>"
      ]
    },
    {
      "cell_type": "markdown",
      "metadata": {
        "id": "fS4PVqvD3Osy"
      },
      "source": [
        "**AnswerQ4:** Your answer here (double click to edit)"
      ]
    },
    {
      "cell_type": "code",
      "execution_count": null,
      "metadata": {
        "id": "FLTtsflw3Osz"
      },
      "outputs": [],
      "source": [
        "# code for first Q4 plot"
      ]
    },
    {
      "cell_type": "code",
      "execution_count": null,
      "metadata": {
        "id": "H677nhSP3nj5"
      },
      "outputs": [],
      "source": [
        "# code for second Q4 plot"
      ]
    },
    {
      "cell_type": "code",
      "execution_count": null,
      "metadata": {
        "id": "l5zdwHiY3nri"
      },
      "outputs": [],
      "source": [
        "# code for third Q4 plot"
      ]
    },
    {
      "cell_type": "markdown",
      "metadata": {
        "id": "aT0Talkm3Os0"
      },
      "source": [
        "### **Q5: Add lines of code for each of the plots generated for Q4 to save the plot as an image file.**"
      ]
    },
    {
      "cell_type": "markdown",
      "metadata": {
        "id": "tlzcgLH63Os1"
      },
      "source": [
        "**AnswerQ5:** Your answer here (double click to edit)"
      ]
    },
    {
      "cell_type": "code",
      "execution_count": null,
      "metadata": {
        "id": "lIT6l9eU3Os1"
      },
      "outputs": [],
      "source": [
        "# code for first Q4 plot"
      ]
    },
    {
      "cell_type": "code",
      "execution_count": null,
      "metadata": {
        "id": "TkitWnUV3uxB"
      },
      "outputs": [],
      "source": [
        "# code for second Q4 plot"
      ]
    },
    {
      "cell_type": "code",
      "execution_count": null,
      "metadata": {
        "id": "hw996e1N3u4a"
      },
      "outputs": [],
      "source": [
        "# code for third Q4 plot"
      ]
    }
  ],
  "metadata": {
    "kernelspec": {
      "display_name": "Python 3",
      "language": "python",
      "name": "python3"
    },
    "language_info": {
      "codemirror_mode": {
        "name": "ipython",
        "version": 3
      },
      "file_extension": ".py",
      "mimetype": "text/x-python",
      "name": "python",
      "nbconvert_exporter": "python",
      "pygments_lexer": "ipython3",
      "version": "3.8.5"
    },
    "colab": {
      "name": "python-matplotlib-intro-template.ipynb",
      "provenance": [],
      "toc_visible": true,
      "include_colab_link": true
    }
  },
  "nbformat": 4,
  "nbformat_minor": 0
}